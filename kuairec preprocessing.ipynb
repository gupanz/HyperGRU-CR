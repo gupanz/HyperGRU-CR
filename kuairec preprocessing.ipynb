{
 "cells": [
  {
   "cell_type": "code",
   "execution_count": 1,
   "metadata": {},
   "outputs": [],
   "source": [
    "import pickle\n",
    "\n",
    "# If you are running locally, make sure you are in the directory of KuaiRec.\n",
    "rootpath=\"./\""
   ]
  },
  {
   "cell_type": "code",
   "execution_count": 2,
   "metadata": {},
   "outputs": [
    {
     "name": "stdout",
     "output_type": "stream",
     "text": [
      "Loading big matrix...\n",
      "Loading item features...\n",
      "All data loaded.\n"
     ]
    }
   ],
   "source": [
    "import pandas as pd\n",
    "\n",
    "print(\"Loading big matrix...\")\n",
    "big_matrix = pd.read_csv(rootpath + \"data/big_matrix.csv\")\n",
    "# print(\"Loading small matrix...\")\n",
    "# small_matrix = pd.read_csv(rootpath + \"data/small_matrix.csv\")\n",
    "\n",
    "# print(\"Loading social network...\")\n",
    "# social_network = pd.read_csv(rootpath + \"data/social_network.csv\")\n",
    "# social_network[\"friend_list\"] = social_network[\"friend_list\"].map(eval)\n",
    "\n",
    "print(\"Loading item features...\")\n",
    "item_categories = pd.read_csv(rootpath + \"data/item_categories.csv\")\n",
    "item_categories[\"feat\"] = item_categories[\"feat\"].map(eval)\n",
    "\n",
    "# print(\"Loading user features...\")\n",
    "# user_features = pd.read_csv(\"data/user_features.csv\")\n",
    "\n",
    "# print(\"Loading items' daily features...\")\n",
    "# item_daily_features = pd.read_csv(\"data/item_daily_features.csv\")\n",
    "\n",
    "print(\"All data loaded.\")"
   ]
  },
  {
   "cell_type": "code",
   "execution_count": 3,
   "metadata": {},
   "outputs": [],
   "source": [
    "big_matrix = big_matrix.sort_values(by=['user_id','timestamp'],ascending=True)"
   ]
  },
  {
   "cell_type": "code",
   "execution_count": 4,
   "metadata": {},
   "outputs": [
    {
     "data": {
      "text/html": [
       "<div>\n",
       "<style scoped>\n",
       "    .dataframe tbody tr th:only-of-type {\n",
       "        vertical-align: middle;\n",
       "    }\n",
       "\n",
       "    .dataframe tbody tr th {\n",
       "        vertical-align: top;\n",
       "    }\n",
       "\n",
       "    .dataframe thead th {\n",
       "        text-align: right;\n",
       "    }\n",
       "</style>\n",
       "<table border=\"1\" class=\"dataframe\">\n",
       "  <thead>\n",
       "    <tr style=\"text-align: right;\">\n",
       "      <th></th>\n",
       "      <th>user_id</th>\n",
       "      <th>video_id</th>\n",
       "      <th>play_duration</th>\n",
       "      <th>video_duration</th>\n",
       "      <th>time</th>\n",
       "      <th>date</th>\n",
       "      <th>timestamp</th>\n",
       "      <th>watch_ratio</th>\n",
       "    </tr>\n",
       "  </thead>\n",
       "  <tbody>\n",
       "    <tr>\n",
       "      <td>0</td>\n",
       "      <td>0</td>\n",
       "      <td>3649</td>\n",
       "      <td>13838</td>\n",
       "      <td>10867</td>\n",
       "      <td>2020-07-05 00:08:23.438</td>\n",
       "      <td>20200705</td>\n",
       "      <td>1.593879e+09</td>\n",
       "      <td>1.273397</td>\n",
       "    </tr>\n",
       "    <tr>\n",
       "      <td>1</td>\n",
       "      <td>0</td>\n",
       "      <td>9598</td>\n",
       "      <td>13665</td>\n",
       "      <td>10984</td>\n",
       "      <td>2020-07-05 00:13:41.297</td>\n",
       "      <td>20200705</td>\n",
       "      <td>1.593879e+09</td>\n",
       "      <td>1.244082</td>\n",
       "    </tr>\n",
       "    <tr>\n",
       "      <td>2</td>\n",
       "      <td>0</td>\n",
       "      <td>5262</td>\n",
       "      <td>851</td>\n",
       "      <td>7908</td>\n",
       "      <td>2020-07-05 00:16:06.687</td>\n",
       "      <td>20200705</td>\n",
       "      <td>1.593879e+09</td>\n",
       "      <td>0.107613</td>\n",
       "    </tr>\n",
       "    <tr>\n",
       "      <td>3</td>\n",
       "      <td>0</td>\n",
       "      <td>1963</td>\n",
       "      <td>862</td>\n",
       "      <td>9590</td>\n",
       "      <td>2020-07-05 00:20:26.792</td>\n",
       "      <td>20200705</td>\n",
       "      <td>1.593880e+09</td>\n",
       "      <td>0.089885</td>\n",
       "    </tr>\n",
       "    <tr>\n",
       "      <td>4</td>\n",
       "      <td>0</td>\n",
       "      <td>8234</td>\n",
       "      <td>858</td>\n",
       "      <td>11000</td>\n",
       "      <td>2020-07-05 00:43:05.128</td>\n",
       "      <td>20200705</td>\n",
       "      <td>1.593881e+09</td>\n",
       "      <td>0.078000</td>\n",
       "    </tr>\n",
       "  </tbody>\n",
       "</table>\n",
       "</div>"
      ],
      "text/plain": [
       "   user_id  video_id  play_duration  video_duration                     time  \\\n",
       "0        0      3649          13838           10867  2020-07-05 00:08:23.438   \n",
       "1        0      9598          13665           10984  2020-07-05 00:13:41.297   \n",
       "2        0      5262            851            7908  2020-07-05 00:16:06.687   \n",
       "3        0      1963            862            9590  2020-07-05 00:20:26.792   \n",
       "4        0      8234            858           11000  2020-07-05 00:43:05.128   \n",
       "\n",
       "       date     timestamp  watch_ratio  \n",
       "0  20200705  1.593879e+09     1.273397  \n",
       "1  20200705  1.593879e+09     1.244082  \n",
       "2  20200705  1.593879e+09     0.107613  \n",
       "3  20200705  1.593880e+09     0.089885  \n",
       "4  20200705  1.593881e+09     0.078000  "
      ]
     },
     "execution_count": 4,
     "metadata": {},
     "output_type": "execute_result"
    }
   ],
   "source": [
    "big_matrix.head()"
   ]
  },
  {
   "cell_type": "markdown",
   "metadata": {},
   "source": [
    "# 一.数据过滤"
   ]
  },
  {
   "cell_type": "markdown",
   "metadata": {},
   "source": [
    "## 1.1 过滤完全重复的数据（所有字段都相同）"
   ]
  },
  {
   "cell_type": "code",
   "execution_count": 5,
   "metadata": {},
   "outputs": [
    {
     "name": "stdout",
     "output_type": "stream",
     "text": [
      "过滤重复\n"
     ]
    }
   ],
   "source": [
    "print(\"过滤重复\")\n",
    "orig_num = big_matrix.shape[0]\n",
    "big_matrix = big_matrix.drop_duplicates()\n",
    "big_matrix = big_matrix.reset_index(drop=True)\n",
    "now_num = big_matrix.shape[0]"
   ]
  },
  {
   "cell_type": "code",
   "execution_count": 6,
   "metadata": {},
   "outputs": [
    {
     "name": "stdout",
     "output_type": "stream",
     "text": [
      "过滤的交互数量为: 965819\n",
      "原先的交互数量为: 12530806\n",
      "原先的交互数量为: 11564987\n",
      "过滤掉7.71%的交互数量\n"
     ]
    }
   ],
   "source": [
    "filter_num = orig_num - now_num \n",
    "print(\"过滤的交互数量为:\",filter_num)\n",
    "print(\"原先的交互数量为:\",orig_num)\n",
    "print(\"原先的交互数量为:\",now_num)\n",
    "print(\"过滤掉{:.2f}%的交互数量\".format(100*filter_num/orig_num))"
   ]
  },
  {
   "cell_type": "markdown",
   "metadata": {},
   "source": [
    "# 1.2 过滤用户连续交互以及交叠交互的数据"
   ]
  },
  {
   "cell_type": "code",
   "execution_count": 7,
   "metadata": {},
   "outputs": [],
   "source": [
    "is_du = (big_matrix.shift(-1)[\"user_id\"] == big_matrix[\"user_id\"]) & (big_matrix.shift(-1)[\"video_id\"] == big_matrix[\"video_id\"])"
   ]
  },
  {
   "cell_type": "code",
   "execution_count": 8,
   "metadata": {},
   "outputs": [],
   "source": [
    "# 过滤2\n",
    "orig_num = big_matrix.shape[0]\n",
    "\n",
    "big_matrix = big_matrix[is_du == False]\n",
    "big_matrix = big_matrix.reset_index(drop=True)\n",
    "\n",
    "now_num = big_matrix.shape[0]"
   ]
  },
  {
   "cell_type": "code",
   "execution_count": 9,
   "metadata": {},
   "outputs": [
    {
     "name": "stdout",
     "output_type": "stream",
     "text": [
      "过滤的交互数量为: 304826\n",
      "原先的交互数量为: 11564987\n",
      "原先的交互数量为: 11260161\n",
      "过滤掉2.64%的交互数量\n"
     ]
    }
   ],
   "source": [
    "filter_num = orig_num - now_num \n",
    "print(\"过滤的交互数量为:\",filter_num)\n",
    "print(\"原先的交互数量为:\",orig_num)\n",
    "print(\"原先的交互数量为:\",now_num)\n",
    "print(\"过滤掉{:.2f}%的交互数量\".format(100*filter_num/orig_num))"
   ]
  },
  {
   "cell_type": "code",
   "execution_count": 10,
   "metadata": {},
   "outputs": [],
   "source": [
    "is_du = (big_matrix.shift(-2)[\"user_id\"] == big_matrix[\"user_id\"]) & (big_matrix.shift(-2)[\"video_id\"] == big_matrix[\"video_id\"]) "
   ]
  },
  {
   "cell_type": "code",
   "execution_count": 11,
   "metadata": {},
   "outputs": [],
   "source": [
    "# 过滤2\n",
    "orig_num = big_matrix.shape[0]\n",
    "\n",
    "big_matrix = big_matrix[is_du == False]\n",
    "big_matrix = big_matrix.reset_index(drop=True)\n",
    "\n",
    "now_num = big_matrix.shape[0]"
   ]
  },
  {
   "cell_type": "code",
   "execution_count": 12,
   "metadata": {},
   "outputs": [
    {
     "name": "stdout",
     "output_type": "stream",
     "text": [
      "过滤的交互数量为: 25482\n",
      "原先的交互数量为: 11260161\n",
      "原先的交互数量为: 11234679\n",
      "过滤掉0.23%的交互数量\n"
     ]
    }
   ],
   "source": [
    "filter_num = orig_num - now_num \n",
    "print(\"过滤的交互数量为:\",filter_num)\n",
    "print(\"原先的交互数量为:\",orig_num)\n",
    "print(\"原先的交互数量为:\",now_num)\n",
    "print(\"过滤掉{:.2f}%的交互数量\".format(100*filter_num/orig_num))"
   ]
  },
  {
   "cell_type": "markdown",
   "metadata": {},
   "source": [
    "## 1.3 统计数据集合中重复的情况"
   ]
  },
  {
   "cell_type": "code",
   "execution_count": 13,
   "metadata": {},
   "outputs": [],
   "source": [
    "isduplicated = big_matrix.duplicated(subset=[\"user_id\",\"video_id\"], keep='first') "
   ]
  },
  {
   "cell_type": "code",
   "execution_count": 14,
   "metadata": {},
   "outputs": [
    {
     "name": "stdout",
     "output_type": "stream",
     "text": [
      "有8.31%交互是重复的 \n",
      "用户平均有130个交互是重复的\n",
      "用户平均的交互数量是1566\n"
     ]
    }
   ],
   "source": [
    "print(\"有{:.2f}%交互是重复的 \".format(100*sum(isduplicated)/big_matrix.shape[0]))\n",
    "print(\"用户平均有{:.0f}个交互是重复的\".format(sum(isduplicated)/len(big_matrix.user_id.unique())))\n",
    "print(\"用户平均的交互数量是{:.0f}\".format(big_matrix.shape[0]/len(big_matrix.user_id.unique())))"
   ]
  },
  {
   "cell_type": "code",
   "execution_count": 15,
   "metadata": {},
   "outputs": [
    {
     "data": {
      "text/html": [
       "<div>\n",
       "<style scoped>\n",
       "    .dataframe tbody tr th:only-of-type {\n",
       "        vertical-align: middle;\n",
       "    }\n",
       "\n",
       "    .dataframe tbody tr th {\n",
       "        vertical-align: top;\n",
       "    }\n",
       "\n",
       "    .dataframe thead th {\n",
       "        text-align: right;\n",
       "    }\n",
       "</style>\n",
       "<table border=\"1\" class=\"dataframe\">\n",
       "  <thead>\n",
       "    <tr style=\"text-align: right;\">\n",
       "      <th></th>\n",
       "      <th>user_id</th>\n",
       "      <th>video_id</th>\n",
       "      <th>play_duration</th>\n",
       "      <th>video_duration</th>\n",
       "      <th>time</th>\n",
       "      <th>date</th>\n",
       "      <th>timestamp</th>\n",
       "      <th>watch_ratio</th>\n",
       "    </tr>\n",
       "  </thead>\n",
       "  <tbody>\n",
       "    <tr>\n",
       "      <td>0</td>\n",
       "      <td>0</td>\n",
       "      <td>3649</td>\n",
       "      <td>13838</td>\n",
       "      <td>10867</td>\n",
       "      <td>2020-07-05 00:08:23.438</td>\n",
       "      <td>20200705</td>\n",
       "      <td>1.593879e+09</td>\n",
       "      <td>1.273397</td>\n",
       "    </tr>\n",
       "    <tr>\n",
       "      <td>1</td>\n",
       "      <td>0</td>\n",
       "      <td>9598</td>\n",
       "      <td>13665</td>\n",
       "      <td>10984</td>\n",
       "      <td>2020-07-05 00:13:41.297</td>\n",
       "      <td>20200705</td>\n",
       "      <td>1.593879e+09</td>\n",
       "      <td>1.244082</td>\n",
       "    </tr>\n",
       "    <tr>\n",
       "      <td>2</td>\n",
       "      <td>0</td>\n",
       "      <td>5262</td>\n",
       "      <td>851</td>\n",
       "      <td>7908</td>\n",
       "      <td>2020-07-05 00:16:06.687</td>\n",
       "      <td>20200705</td>\n",
       "      <td>1.593879e+09</td>\n",
       "      <td>0.107613</td>\n",
       "    </tr>\n",
       "    <tr>\n",
       "      <td>3</td>\n",
       "      <td>0</td>\n",
       "      <td>1963</td>\n",
       "      <td>862</td>\n",
       "      <td>9590</td>\n",
       "      <td>2020-07-05 00:20:26.792</td>\n",
       "      <td>20200705</td>\n",
       "      <td>1.593880e+09</td>\n",
       "      <td>0.089885</td>\n",
       "    </tr>\n",
       "    <tr>\n",
       "      <td>4</td>\n",
       "      <td>0</td>\n",
       "      <td>8234</td>\n",
       "      <td>858</td>\n",
       "      <td>11000</td>\n",
       "      <td>2020-07-05 00:43:05.128</td>\n",
       "      <td>20200705</td>\n",
       "      <td>1.593881e+09</td>\n",
       "      <td>0.078000</td>\n",
       "    </tr>\n",
       "    <tr>\n",
       "      <td>...</td>\n",
       "      <td>...</td>\n",
       "      <td>...</td>\n",
       "      <td>...</td>\n",
       "      <td>...</td>\n",
       "      <td>...</td>\n",
       "      <td>...</td>\n",
       "      <td>...</td>\n",
       "      <td>...</td>\n",
       "    </tr>\n",
       "    <tr>\n",
       "      <td>11234674</td>\n",
       "      <td>7175</td>\n",
       "      <td>6630</td>\n",
       "      <td>4342</td>\n",
       "      <td>13855</td>\n",
       "      <td>2020-09-05 15:00:33.379</td>\n",
       "      <td>20200905</td>\n",
       "      <td>1.599289e+09</td>\n",
       "      <td>0.313389</td>\n",
       "    </tr>\n",
       "    <tr>\n",
       "      <td>11234675</td>\n",
       "      <td>7175</td>\n",
       "      <td>1281</td>\n",
       "      <td>34618</td>\n",
       "      <td>140017</td>\n",
       "      <td>2020-09-05 15:07:10.576</td>\n",
       "      <td>20200905</td>\n",
       "      <td>1.599290e+09</td>\n",
       "      <td>0.247241</td>\n",
       "    </tr>\n",
       "    <tr>\n",
       "      <td>11234676</td>\n",
       "      <td>7175</td>\n",
       "      <td>3407</td>\n",
       "      <td>12619</td>\n",
       "      <td>21888</td>\n",
       "      <td>2020-09-05 15:08:45.228</td>\n",
       "      <td>20200905</td>\n",
       "      <td>1.599290e+09</td>\n",
       "      <td>0.576526</td>\n",
       "    </tr>\n",
       "    <tr>\n",
       "      <td>11234677</td>\n",
       "      <td>7175</td>\n",
       "      <td>10360</td>\n",
       "      <td>6455</td>\n",
       "      <td>7067</td>\n",
       "      <td>2020-09-05 19:10:36.995</td>\n",
       "      <td>20200905</td>\n",
       "      <td>1.599304e+09</td>\n",
       "      <td>0.913400</td>\n",
       "    </tr>\n",
       "    <tr>\n",
       "      <td>11234678</td>\n",
       "      <td>7175</td>\n",
       "      <td>10389</td>\n",
       "      <td>12263</td>\n",
       "      <td>14304</td>\n",
       "      <td>2020-09-05 21:13:51.419</td>\n",
       "      <td>20200905</td>\n",
       "      <td>1.599312e+09</td>\n",
       "      <td>0.857313</td>\n",
       "    </tr>\n",
       "  </tbody>\n",
       "</table>\n",
       "<p>11234679 rows × 8 columns</p>\n",
       "</div>"
      ],
      "text/plain": [
       "          user_id  video_id  play_duration  video_duration  \\\n",
       "0               0      3649          13838           10867   \n",
       "1               0      9598          13665           10984   \n",
       "2               0      5262            851            7908   \n",
       "3               0      1963            862            9590   \n",
       "4               0      8234            858           11000   \n",
       "...           ...       ...            ...             ...   \n",
       "11234674     7175      6630           4342           13855   \n",
       "11234675     7175      1281          34618          140017   \n",
       "11234676     7175      3407          12619           21888   \n",
       "11234677     7175     10360           6455            7067   \n",
       "11234678     7175     10389          12263           14304   \n",
       "\n",
       "                             time      date     timestamp  watch_ratio  \n",
       "0         2020-07-05 00:08:23.438  20200705  1.593879e+09     1.273397  \n",
       "1         2020-07-05 00:13:41.297  20200705  1.593879e+09     1.244082  \n",
       "2         2020-07-05 00:16:06.687  20200705  1.593879e+09     0.107613  \n",
       "3         2020-07-05 00:20:26.792  20200705  1.593880e+09     0.089885  \n",
       "4         2020-07-05 00:43:05.128  20200705  1.593881e+09     0.078000  \n",
       "...                           ...       ...           ...          ...  \n",
       "11234674  2020-09-05 15:00:33.379  20200905  1.599289e+09     0.313389  \n",
       "11234675  2020-09-05 15:07:10.576  20200905  1.599290e+09     0.247241  \n",
       "11234676  2020-09-05 15:08:45.228  20200905  1.599290e+09     0.576526  \n",
       "11234677  2020-09-05 19:10:36.995  20200905  1.599304e+09     0.913400  \n",
       "11234678  2020-09-05 21:13:51.419  20200905  1.599312e+09     0.857313  \n",
       "\n",
       "[11234679 rows x 8 columns]"
      ]
     },
     "execution_count": 15,
     "metadata": {},
     "output_type": "execute_result"
    }
   ],
   "source": [
    "big_matrix"
   ]
  },
  {
   "cell_type": "code",
   "execution_count": 16,
   "metadata": {},
   "outputs": [
    {
     "name": "stdout",
     "output_type": "stream",
     "text": [
      "10728\n"
     ]
    }
   ],
   "source": [
    "all_video = big_matrix.video_id.unique()\n",
    "print(len(all_video))"
   ]
  },
  {
   "cell_type": "code",
   "execution_count": 17,
   "metadata": {},
   "outputs": [
    {
     "name": "stdout",
     "output_type": "stream",
     "text": [
      "7176\n"
     ]
    }
   ],
   "source": [
    "user_id = big_matrix.user_id.unique()\n",
    "print(len(user_id))"
   ]
  },
  {
   "cell_type": "code",
   "execution_count": null,
   "metadata": {},
   "outputs": [],
   "source": []
  },
  {
   "cell_type": "markdown",
   "metadata": {},
   "source": [
    "# 为video增加cate和tag"
   ]
  },
  {
   "cell_type": "code",
   "execution_count": 18,
   "metadata": {},
   "outputs": [],
   "source": [
    "video_cat_tag = pd.read_csv( \"video_cate_tag.csv\")"
   ]
  },
  {
   "cell_type": "code",
   "execution_count": 19,
   "metadata": {},
   "outputs": [],
   "source": [
    "big_matrix = pd.merge(big_matrix, video_cat_tag, how='left', on=['video_id'])"
   ]
  },
  {
   "cell_type": "code",
   "execution_count": 20,
   "metadata": {},
   "outputs": [
    {
     "name": "stdout",
     "output_type": "stream",
     "text": [
      "10728\n"
     ]
    }
   ],
   "source": [
    "all_video = big_matrix.video_id.unique()\n",
    "print(len(all_video))"
   ]
  },
  {
   "cell_type": "markdown",
   "metadata": {},
   "source": [
    "# 二、给交互数据打标签 "
   ]
  },
  {
   "cell_type": "code",
   "execution_count": 21,
   "metadata": {},
   "outputs": [],
   "source": [
    "# like   看2遍  \n",
    "like = big_matrix[\"play_duration\"] >= 2*big_matrix[\"video_duration\"]\n",
    "big_matrix[\"like\"] = like\n",
    "\n",
    "# ---------------------------------\n",
    "# complete play  看1遍\n",
    "completeclick = big_matrix[\"play_duration\"] >= big_matrix[\"video_duration\"]\n",
    "big_matrix[\"completeclick\"] = completeclick\n",
    "\n",
    "\n",
    "# ---------------------------------\n",
    "# long time play   大于18秒\n",
    "longclick1 = (big_matrix[\"play_duration\"] >= big_matrix[\"video_duration\"]) & (big_matrix[\"video_duration\"] <=18000)\n",
    "longclick2 = ( (big_matrix[\"play_duration\"] >18000) & (big_matrix[\"video_duration\"] >18000))\n",
    "big_matrix[\"longclick\"] = longclick1 | longclick2\n",
    "\n",
    "\n",
    "# -------------click--------------------\n",
    "# valid play     大于7秒\n",
    "isclick1 = (big_matrix[\"play_duration\"] >= big_matrix[\"video_duration\"]) & (big_matrix[\"video_duration\"] <=7000)\n",
    "isclick2 = ( (big_matrix[\"play_duration\"] >7000) & (big_matrix[\"video_duration\"] >7000))\n",
    "big_matrix[\"validclick\"] = isclick1 | isclick2\n",
    "\n",
    "\n",
    "# ---------------------------------\n",
    "# dislike  小于3秒  short_play\n",
    "shortplay1 = (big_matrix[\"play_duration\"] < 3000) & (big_matrix[\"video_duration\"]>3000)\n",
    "shortplay2 = (big_matrix[\"play_duration\"] < big_matrix[\"video_duration\"]) & (big_matrix[\"video_duration\"]<=3000)\n",
    "big_matrix[\"shortplay\"] = shortplay1 | shortplay2"
   ]
  },
  {
   "cell_type": "code",
   "execution_count": 22,
   "metadata": {},
   "outputs": [],
   "source": [
    "result = big_matrix.groupby(['user_id', 'video_id'])['validclick'].nunique()\n",
    "# Filter for cases where both True and False exist (nunique == 2)\n",
    "user_count = result[result == 2].index.get_level_values('user_id').nunique()"
   ]
  },
  {
   "cell_type": "code",
   "execution_count": 23,
   "metadata": {},
   "outputs": [
    {
     "data": {
      "text/plain": [
       "0.9874581939799331"
      ]
     },
     "execution_count": 23,
     "metadata": {},
     "output_type": "execute_result"
    }
   ],
   "source": [
    "user_count/7176"
   ]
  },
  {
   "cell_type": "code",
   "execution_count": 24,
   "metadata": {},
   "outputs": [
    {
     "name": "stdout",
     "output_type": "stream",
     "text": [
      "用户数量：  7176\n",
      "用户平均喜欢行为个数：   118.75473801560759\n",
      "用户平均完成行为个数：   539.196209587514\n",
      "用户平均长播放行为个数：   548.9646042363433\n",
      "用户平均点击行为个数：   873.9315774804905\n",
      "用户平均未点击行为个数： 691.6591415830546\n",
      "用户平均short play行为个数： 272.5569955406912\n"
     ]
    }
   ],
   "source": [
    "like_num = sum(big_matrix[\"like\"])\n",
    "completeclick_num = sum(big_matrix[\"completeclick\"])\n",
    "longclick_num = sum(big_matrix[\"longclick\"])\n",
    "click_num = sum(big_matrix[\"validclick\"])\n",
    "\n",
    "unclick_num = big_matrix.shape[0] - sum(big_matrix[\"validclick\"])\n",
    "dislick_num = sum(big_matrix[\"shortplay\"])\n",
    "user_num = len(big_matrix.user_id.unique())\n",
    "\n",
    "print(\"用户数量： \", user_num)\n",
    "print(\"用户平均喜欢行为个数：  \", like_num/user_num)\n",
    "print(\"用户平均完成行为个数：  \",completeclick_num/user_num)\n",
    "print(\"用户平均长播放行为个数：  \",longclick_num/user_num)\n",
    "print(\"用户平均点击行为个数：  \",click_num/user_num)\n",
    "\n",
    "print(\"用户平均未点击行为个数：\",unclick_num/user_num)\n",
    "print(\"用户平均short play行为个数：\",dislick_num/user_num)"
   ]
  },
  {
   "cell_type": "code",
   "execution_count": 61,
   "metadata": {},
   "outputs": [],
   "source": [
    "def df_analysis(df):\n",
    "    \n",
    "    like_num = sum(df[\"like\"])\n",
    "    dislick_num = sum(df[\"shortplay\"])\n",
    "    \n",
    "    click_num = sum(df[\"validclick\"])\n",
    "    unclick_num = df.shape[0] - sum(df[\"validclick\"])\n",
    "    \n",
    "    complete_num = sum(df[\"completeclick\"])\n",
    "    \n",
    "    user_num = len(df.user_id.unique())\n",
    "    \n",
    "    print(\"用户数量： \", user_num)\n",
    "    print(\"==========================\")\n",
    "    print(\"交互行为个数：  \", len(df) )\n",
    "    print(\"点击行为个数：  \", click_num)\n",
    "    print(\"未点击行为个数：\",unclick_num)\n",
    "    print(\"喜欢行为个数：  \",like_num)\n",
    "    print(\"完整观看行为个数：  \",complete_num)\n",
    "    print(\"==========================\")\n",
    "    \n",
    "    print(\"用户平均交互行为个数：  \", len(df)/user_num)\n",
    "    print(\"用户平均点击行为个数：  \", click_num/user_num)\n",
    "    print(\"用户平均未点击行为个数：\",unclick_num/user_num)\n",
    "    print(\"用户平均喜欢行为个数：  \",like_num/user_num)\n",
    "    print(\"用户平均完整观看行为个数：  \",complete_num/user_num)\n",
    "    \n",
    "    \n",
    "    # print(\"用户平均不喜欢行为个数：\",dislick_num/user_num)\n",
    "\n",
    "# dislike还是不恰当，还是分为click、 unclick、 like[观看了2遍以及以上]"
   ]
  },
  {
   "cell_type": "code",
   "execution_count": 26,
   "metadata": {},
   "outputs": [
    {
     "name": "stdout",
     "output_type": "stream",
     "text": [
      "123673\n",
      "11234679\n"
     ]
    }
   ],
   "source": [
    "print(sum(big_matrix[\"play_duration\"]<1))\n",
    "print(big_matrix.shape[0])\n"
   ]
  },
  {
   "cell_type": "code",
   "execution_count": 27,
   "metadata": {},
   "outputs": [
    {
     "data": {
      "text/html": [
       "<div>\n",
       "<style scoped>\n",
       "    .dataframe tbody tr th:only-of-type {\n",
       "        vertical-align: middle;\n",
       "    }\n",
       "\n",
       "    .dataframe tbody tr th {\n",
       "        vertical-align: top;\n",
       "    }\n",
       "\n",
       "    .dataframe thead th {\n",
       "        text-align: right;\n",
       "    }\n",
       "</style>\n",
       "<table border=\"1\" class=\"dataframe\">\n",
       "  <thead>\n",
       "    <tr style=\"text-align: right;\">\n",
       "      <th></th>\n",
       "      <th>user_id</th>\n",
       "      <th>video_id</th>\n",
       "      <th>play_duration</th>\n",
       "      <th>video_duration</th>\n",
       "      <th>time</th>\n",
       "      <th>date</th>\n",
       "      <th>timestamp</th>\n",
       "      <th>watch_ratio</th>\n",
       "      <th>cate_id</th>\n",
       "      <th>tag_id</th>\n",
       "      <th>video_tag_name</th>\n",
       "      <th>like</th>\n",
       "      <th>completeclick</th>\n",
       "      <th>longclick</th>\n",
       "      <th>validclick</th>\n",
       "      <th>shortplay</th>\n",
       "    </tr>\n",
       "  </thead>\n",
       "  <tbody>\n",
       "    <tr>\n",
       "      <td>94</td>\n",
       "      <td>0</td>\n",
       "      <td>3725</td>\n",
       "      <td>0</td>\n",
       "      <td>10688</td>\n",
       "      <td>2020-07-07 00:05:20.21</td>\n",
       "      <td>20200707</td>\n",
       "      <td>1.594052e+09</td>\n",
       "      <td>0.0</td>\n",
       "      <td>11</td>\n",
       "      <td>1</td>\n",
       "      <td>生活</td>\n",
       "      <td>False</td>\n",
       "      <td>False</td>\n",
       "      <td>False</td>\n",
       "      <td>False</td>\n",
       "      <td>True</td>\n",
       "    </tr>\n",
       "    <tr>\n",
       "      <td>107</td>\n",
       "      <td>0</td>\n",
       "      <td>5278</td>\n",
       "      <td>0</td>\n",
       "      <td>52667</td>\n",
       "      <td>2020-07-07 00:30:16.917</td>\n",
       "      <td>20200707</td>\n",
       "      <td>1.594053e+09</td>\n",
       "      <td>0.0</td>\n",
       "      <td>6</td>\n",
       "      <td>4</td>\n",
       "      <td>娱乐</td>\n",
       "      <td>False</td>\n",
       "      <td>False</td>\n",
       "      <td>False</td>\n",
       "      <td>False</td>\n",
       "      <td>True</td>\n",
       "    </tr>\n",
       "    <tr>\n",
       "      <td>274</td>\n",
       "      <td>0</td>\n",
       "      <td>6716</td>\n",
       "      <td>0</td>\n",
       "      <td>7574</td>\n",
       "      <td>2020-07-09 10:08:11.819</td>\n",
       "      <td>20200709</td>\n",
       "      <td>1.594260e+09</td>\n",
       "      <td>0.0</td>\n",
       "      <td>11</td>\n",
       "      <td>1</td>\n",
       "      <td>生活</td>\n",
       "      <td>False</td>\n",
       "      <td>False</td>\n",
       "      <td>False</td>\n",
       "      <td>False</td>\n",
       "      <td>True</td>\n",
       "    </tr>\n",
       "    <tr>\n",
       "      <td>279</td>\n",
       "      <td>0</td>\n",
       "      <td>279</td>\n",
       "      <td>0</td>\n",
       "      <td>12501</td>\n",
       "      <td>2020-07-09 10:25:48.395</td>\n",
       "      <td>20200709</td>\n",
       "      <td>1.594262e+09</td>\n",
       "      <td>0.0</td>\n",
       "      <td>5</td>\n",
       "      <td>2</td>\n",
       "      <td>穿搭</td>\n",
       "      <td>False</td>\n",
       "      <td>False</td>\n",
       "      <td>False</td>\n",
       "      <td>False</td>\n",
       "      <td>True</td>\n",
       "    </tr>\n",
       "    <tr>\n",
       "      <td>328</td>\n",
       "      <td>0</td>\n",
       "      <td>1871</td>\n",
       "      <td>0</td>\n",
       "      <td>5667</td>\n",
       "      <td>2020-07-10 15:44:38.534</td>\n",
       "      <td>20200710</td>\n",
       "      <td>1.594367e+09</td>\n",
       "      <td>0.0</td>\n",
       "      <td>8</td>\n",
       "      <td>5</td>\n",
       "      <td>颜值</td>\n",
       "      <td>False</td>\n",
       "      <td>False</td>\n",
       "      <td>False</td>\n",
       "      <td>False</td>\n",
       "      <td>True</td>\n",
       "    </tr>\n",
       "  </tbody>\n",
       "</table>\n",
       "</div>"
      ],
      "text/plain": [
       "     user_id  video_id  play_duration  video_duration  \\\n",
       "94         0      3725              0           10688   \n",
       "107        0      5278              0           52667   \n",
       "274        0      6716              0            7574   \n",
       "279        0       279              0           12501   \n",
       "328        0      1871              0            5667   \n",
       "\n",
       "                        time      date     timestamp  watch_ratio  cate_id  \\\n",
       "94    2020-07-07 00:05:20.21  20200707  1.594052e+09          0.0       11   \n",
       "107  2020-07-07 00:30:16.917  20200707  1.594053e+09          0.0        6   \n",
       "274  2020-07-09 10:08:11.819  20200709  1.594260e+09          0.0       11   \n",
       "279  2020-07-09 10:25:48.395  20200709  1.594262e+09          0.0        5   \n",
       "328  2020-07-10 15:44:38.534  20200710  1.594367e+09          0.0        8   \n",
       "\n",
       "     tag_id video_tag_name   like  completeclick  longclick  validclick  \\\n",
       "94        1             生活  False          False      False       False   \n",
       "107       4             娱乐  False          False      False       False   \n",
       "274       1             生活  False          False      False       False   \n",
       "279       2             穿搭  False          False      False       False   \n",
       "328       5             颜值  False          False      False       False   \n",
       "\n",
       "     shortplay  \n",
       "94        True  \n",
       "107       True  \n",
       "274       True  \n",
       "279       True  \n",
       "328       True  "
      ]
     },
     "execution_count": 27,
     "metadata": {},
     "output_type": "execute_result"
    }
   ],
   "source": [
    "big_matrix[big_matrix[\"play_duration\"]<1].head()"
   ]
  },
  {
   "cell_type": "code",
   "execution_count": 28,
   "metadata": {},
   "outputs": [
    {
     "data": {
      "text/html": [
       "<div>\n",
       "<style scoped>\n",
       "    .dataframe tbody tr th:only-of-type {\n",
       "        vertical-align: middle;\n",
       "    }\n",
       "\n",
       "    .dataframe tbody tr th {\n",
       "        vertical-align: top;\n",
       "    }\n",
       "\n",
       "    .dataframe thead th {\n",
       "        text-align: right;\n",
       "    }\n",
       "</style>\n",
       "<table border=\"1\" class=\"dataframe\">\n",
       "  <thead>\n",
       "    <tr style=\"text-align: right;\">\n",
       "      <th></th>\n",
       "      <th>user_id</th>\n",
       "      <th>video_id</th>\n",
       "      <th>play_duration</th>\n",
       "      <th>video_duration</th>\n",
       "      <th>time</th>\n",
       "      <th>date</th>\n",
       "      <th>timestamp</th>\n",
       "      <th>watch_ratio</th>\n",
       "      <th>cate_id</th>\n",
       "      <th>tag_id</th>\n",
       "      <th>video_tag_name</th>\n",
       "      <th>like</th>\n",
       "      <th>completeclick</th>\n",
       "      <th>longclick</th>\n",
       "      <th>validclick</th>\n",
       "      <th>shortplay</th>\n",
       "    </tr>\n",
       "  </thead>\n",
       "  <tbody>\n",
       "    <tr>\n",
       "      <td>0</td>\n",
       "      <td>0</td>\n",
       "      <td>3649</td>\n",
       "      <td>13838</td>\n",
       "      <td>10867</td>\n",
       "      <td>2020-07-05 00:08:23.438</td>\n",
       "      <td>20200705</td>\n",
       "      <td>1.593879e+09</td>\n",
       "      <td>1.273397</td>\n",
       "      <td>9</td>\n",
       "      <td>9</td>\n",
       "      <td>搞笑</td>\n",
       "      <td>False</td>\n",
       "      <td>True</td>\n",
       "      <td>True</td>\n",
       "      <td>True</td>\n",
       "      <td>False</td>\n",
       "    </tr>\n",
       "    <tr>\n",
       "      <td>1</td>\n",
       "      <td>0</td>\n",
       "      <td>9598</td>\n",
       "      <td>13665</td>\n",
       "      <td>10984</td>\n",
       "      <td>2020-07-05 00:13:41.297</td>\n",
       "      <td>20200705</td>\n",
       "      <td>1.593879e+09</td>\n",
       "      <td>1.244082</td>\n",
       "      <td>28</td>\n",
       "      <td>6</td>\n",
       "      <td>情感</td>\n",
       "      <td>False</td>\n",
       "      <td>True</td>\n",
       "      <td>True</td>\n",
       "      <td>True</td>\n",
       "      <td>False</td>\n",
       "    </tr>\n",
       "    <tr>\n",
       "      <td>2</td>\n",
       "      <td>0</td>\n",
       "      <td>5262</td>\n",
       "      <td>851</td>\n",
       "      <td>7908</td>\n",
       "      <td>2020-07-05 00:16:06.687</td>\n",
       "      <td>20200705</td>\n",
       "      <td>1.593879e+09</td>\n",
       "      <td>0.107613</td>\n",
       "      <td>25</td>\n",
       "      <td>12</td>\n",
       "      <td>亲子</td>\n",
       "      <td>False</td>\n",
       "      <td>False</td>\n",
       "      <td>False</td>\n",
       "      <td>False</td>\n",
       "      <td>True</td>\n",
       "    </tr>\n",
       "    <tr>\n",
       "      <td>3</td>\n",
       "      <td>0</td>\n",
       "      <td>1963</td>\n",
       "      <td>862</td>\n",
       "      <td>9590</td>\n",
       "      <td>2020-07-05 00:20:26.792</td>\n",
       "      <td>20200705</td>\n",
       "      <td>1.593880e+09</td>\n",
       "      <td>0.089885</td>\n",
       "      <td>9</td>\n",
       "      <td>9</td>\n",
       "      <td>搞笑</td>\n",
       "      <td>False</td>\n",
       "      <td>False</td>\n",
       "      <td>False</td>\n",
       "      <td>False</td>\n",
       "      <td>True</td>\n",
       "    </tr>\n",
       "    <tr>\n",
       "      <td>4</td>\n",
       "      <td>0</td>\n",
       "      <td>8234</td>\n",
       "      <td>858</td>\n",
       "      <td>11000</td>\n",
       "      <td>2020-07-05 00:43:05.128</td>\n",
       "      <td>20200705</td>\n",
       "      <td>1.593881e+09</td>\n",
       "      <td>0.078000</td>\n",
       "      <td>6</td>\n",
       "      <td>4</td>\n",
       "      <td>娱乐</td>\n",
       "      <td>False</td>\n",
       "      <td>False</td>\n",
       "      <td>False</td>\n",
       "      <td>False</td>\n",
       "      <td>True</td>\n",
       "    </tr>\n",
       "  </tbody>\n",
       "</table>\n",
       "</div>"
      ],
      "text/plain": [
       "   user_id  video_id  play_duration  video_duration                     time  \\\n",
       "0        0      3649          13838           10867  2020-07-05 00:08:23.438   \n",
       "1        0      9598          13665           10984  2020-07-05 00:13:41.297   \n",
       "2        0      5262            851            7908  2020-07-05 00:16:06.687   \n",
       "3        0      1963            862            9590  2020-07-05 00:20:26.792   \n",
       "4        0      8234            858           11000  2020-07-05 00:43:05.128   \n",
       "\n",
       "       date     timestamp  watch_ratio  cate_id  tag_id video_tag_name   like  \\\n",
       "0  20200705  1.593879e+09     1.273397        9       9             搞笑  False   \n",
       "1  20200705  1.593879e+09     1.244082       28       6             情感  False   \n",
       "2  20200705  1.593879e+09     0.107613       25      12             亲子  False   \n",
       "3  20200705  1.593880e+09     0.089885        9       9             搞笑  False   \n",
       "4  20200705  1.593881e+09     0.078000        6       4             娱乐  False   \n",
       "\n",
       "   completeclick  longclick  validclick  shortplay  \n",
       "0           True       True        True      False  \n",
       "1           True       True        True      False  \n",
       "2          False      False       False       True  \n",
       "3          False      False       False       True  \n",
       "4          False      False       False       True  "
      ]
     },
     "execution_count": 28,
     "metadata": {},
     "output_type": "execute_result"
    }
   ],
   "source": [
    "big_matrix.head()"
   ]
  },
  {
   "cell_type": "code",
   "execution_count": 29,
   "metadata": {},
   "outputs": [
    {
     "data": {
      "text/plain": [
       "array([20200705, 20200706, 20200707, 20200708, 20200709, 20200710,\n",
       "       20200711, 20200712, 20200801, 20200802, 20200803, 20200804,\n",
       "       20200805, 20200806, 20200807, 20200808, 20200809, 20200810,\n",
       "       20200827, 20200828, 20200829, 20200830, 20200831, 20200901,\n",
       "       20200902, 20200903, 20200904, 20200905])"
      ]
     },
     "execution_count": 29,
     "metadata": {},
     "output_type": "execute_result"
    }
   ],
   "source": [
    "big_matrix.date.unique()\n",
    "# 20200705, 20200706, 20200707, 20200708, 20200709, 20200710, 20200711, 20200712      \n",
    "# 20200801, 20200802, 20200803, 20200804, 20200805, 20200806, 20200807, 20200808, 20200809, 20200810\n",
    "# 20200827, 20200828, 20200829, 20200830, 20200831, 20200901, 20200902, 20200903, 20200904, 20200905"
   ]
  },
  {
   "cell_type": "code",
   "execution_count": 30,
   "metadata": {},
   "outputs": [],
   "source": [
    "train1 = big_matrix[(big_matrix[\"date\"] >= 20200705) & (big_matrix[\"date\"] <= 20200710)]\n",
    "train2 = big_matrix[(big_matrix[\"date\"] >= 20200801) & (big_matrix[\"date\"] <= 20200808)]\n",
    "train3 = big_matrix[(big_matrix[\"date\"] >= 20200827) & (big_matrix[\"date\"] <= 20200903)]\n",
    "\n",
    "test1 = big_matrix[(big_matrix[\"date\"] >= 20200711) & (big_matrix[\"date\"] <= 20200712)]\n",
    "test2 = big_matrix[(big_matrix[\"date\"] >= 20200809) & (big_matrix[\"date\"] <= 20200810)]\n",
    "test3 = big_matrix[(big_matrix[\"date\"] >= 20200904) & (big_matrix[\"date\"] <= 20200905)]\n",
    "\n",
    "test_all = pd.concat([test1, test2, test3])\n",
    "train_all = pd.concat([train1, train2, train3])"
   ]
  },
  {
   "cell_type": "code",
   "execution_count": 31,
   "metadata": {},
   "outputs": [],
   "source": [
    "data_num= big_matrix.groupby([\"date\"]).size()"
   ]
  },
  {
   "cell_type": "code",
   "execution_count": 32,
   "metadata": {},
   "outputs": [
    {
     "data": {
      "image/png": "[encoded data removed]",
      "text/plain": [
       "<Figure size 432x288 with 1 Axes>"
      ]
     },
     "metadata": {
      "needs_background": "light"
     },
     "output_type": "display_data"
    }
   ],
   "source": [
    "import matplotlib.pyplot as plt\n",
    "%matplotlib inline\n",
    "plt.plot(data_num.values,'s-',color = \"#9fc5e8\",label=\"ATT-RLSTM\")#s-:方形\n",
    "plt.show()"
   ]
  },
  {
   "cell_type": "code",
   "execution_count": 33,
   "metadata": {},
   "outputs": [
    {
     "name": "stdout",
     "output_type": "stream",
     "text": [
      "\n",
      "所有数据集：\n",
      "用户数量：  7176\n",
      "用户平均交互行为个数：   1565.590719063545\n",
      "用户平均点击行为个数：   873.9315774804905\n",
      "用户平均未点击行为个数： 691.6591415830546\n",
      "用户平均喜欢行为个数：   118.75473801560759\n",
      "用户平均完整观看行为个数：   539.196209587514\n",
      "=====train=====\n",
      "\n",
      " train_all：\n",
      "用户数量：  7176\n",
      "用户平均交互行为个数：   1277.66262541806\n",
      "用户平均点击行为个数：   713.2543199554069\n",
      "用户平均未点击行为个数： 564.4083054626533\n",
      "用户平均喜欢行为个数：   96.75320512820512\n",
      "用户平均完整观看行为个数：   440.38085284280936\n",
      "\n",
      " train1：\n",
      "用户数量：  7007\n",
      "用户平均交互行为个数：   217.56543456543457\n",
      "用户平均点击行为个数：   123.54103039817325\n",
      "用户平均未点击行为个数： 94.02440416726131\n",
      "用户平均喜欢行为个数：   19.34322820037106\n",
      "用户平均完整观看行为个数：   80.49892964178679\n",
      "\n",
      " train2：\n",
      "用户数量：  7163\n",
      "用户平均交互行为个数：   707.9913444087673\n",
      "用户平均点击行为个数：   394.4143515286891\n",
      "用户平均未点击行为个数： 313.5769928800782\n",
      "用户平均喜欢行为个数：   51.566941225743406\n",
      "用户平均完整观看行为个数：   244.8821722741868\n",
      "\n",
      " train3：\n",
      "用户数量：  6979\n",
      "用户平均交互行为个数：   368.6321822610689\n",
      "用户平均点击行为个数：   204.53804269952715\n",
      "用户平均未点击行为个数： 164.09413956154177\n",
      "用户平均喜欢行为个数：   27.136982375698523\n",
      "用户平均完整观看行为个数：   120.65138271958733\n",
      "=====test=====\n",
      "\n",
      " test_all：\n",
      "用户数量：  7167\n",
      "用户平均交互行为个数：   288.2896609460025\n",
      "用户平均点击行为个数：   160.87902888237755\n",
      "用户平均未点击行为个数： 127.41063206362494\n",
      "用户平均喜欢行为个数：   22.02916143435189\n",
      "用户平均完整观看行为个数：   98.93944467699177\n",
      "\n",
      " test1：\n",
      "用户数量：  6962\n",
      "用户平均交互行为个数：   86.19161160586039\n",
      "用户平均点击行为个数：   48.93866704969836\n",
      "用户平均未点击行为个数： 37.25294455616202\n",
      "用户平均喜欢行为个数：   7.799195633438667\n",
      "用户平均完整观看行为个数：   32.57282390117782\n",
      "\n",
      " test2：\n",
      "用户数量：  6650\n",
      "用户平均交互行为个数：   170.85684210526315\n",
      "用户平均点击行为个数：   94.42285714285714\n",
      "用户平均未点击行为个数： 76.43398496240602\n",
      "用户平均喜欢行为个数：   11.298496240601503\n",
      "用户平均完整观看行为个数：   55.4203007518797\n",
      "\n",
      " test3：\n",
      "用户数量：  6684\n",
      "用户平均交互行为个数：   49.357869539198084\n",
      "用户平均点击行为个数：   27.587821663674447\n",
      "用户平均未点击行为个数： 21.770047875523638\n",
      "用户平均喜欢行为个数：   4.256433273488929\n",
      "用户平均完整观看行为个数：   17.023040095751046\n"
     ]
    }
   ],
   "source": [
    "print(\"\\n所有数据集：\")\n",
    "df_analysis(big_matrix)\n",
    "\n",
    "print(\"=====train=====\")\n",
    "print(\"\\n train_all：\")\n",
    "df_analysis(train_all)\n",
    "print(\"\\n train1：\")\n",
    "df_analysis(train1)\n",
    "print(\"\\n train2：\")\n",
    "df_analysis(train2)\n",
    "print(\"\\n train3：\")\n",
    "df_analysis(train3)\n",
    "\n",
    "print(\"=====test=====\")\n",
    "print(\"\\n test_all：\")\n",
    "df_analysis(test_all)\n",
    "print(\"\\n test1：\")\n",
    "df_analysis(test1)\n",
    "print(\"\\n test2：\")\n",
    "df_analysis(test2)\n",
    "print(\"\\n test3：\")\n",
    "df_analysis(test3)"
   ]
  },
  {
   "cell_type": "code",
   "execution_count": 34,
   "metadata": {},
   "outputs": [
    {
     "name": "stdout",
     "output_type": "stream",
     "text": [
      "10728\n"
     ]
    }
   ],
   "source": [
    "all_video = big_matrix.video_id.unique()\n",
    "print(len(all_video))"
   ]
  },
  {
   "cell_type": "markdown",
   "metadata": {},
   "source": [
    "# 三、训练数据过滤 "
   ]
  },
  {
   "cell_type": "code",
   "execution_count": 35,
   "metadata": {},
   "outputs": [],
   "source": [
    "# 1 过滤 test中的item，未在train中出现的\n",
    "# 2 过滤整体的item出现次数小于4的"
   ]
  },
  {
   "cell_type": "code",
   "execution_count": 36,
   "metadata": {},
   "outputs": [
    {
     "name": "stdout",
     "output_type": "stream",
     "text": [
      "(11234679, 16)\n"
     ]
    }
   ],
   "source": [
    "print(big_matrix.shape)"
   ]
  },
  {
   "cell_type": "code",
   "execution_count": 37,
   "metadata": {},
   "outputs": [
    {
     "name": "stdout",
     "output_type": "stream",
     "text": [
      "过滤前：2066172 过滤后：1948893 被过滤的数量：117279\n"
     ]
    }
   ],
   "source": [
    "def filter_test(train, test):\n",
    "    train_video_list = train.video_id.unique()\n",
    "    train_user_list = train.user_id.unique()\n",
    "    \n",
    "    orgi_num = test.shape[0]\n",
    "    test = test[test.video_id.isin(train_video_list)]\n",
    "    test = test[test.user_id.isin(train_user_list)]\n",
    "    cur_num = test.shape[0]\n",
    "    print(\"过滤前：{} 过滤后：{} 被过滤的数量：{}\".format(orgi_num, cur_num, orgi_num - cur_num))\n",
    "    return test\n",
    "\n",
    "test_all = filter_test(train_all, test_all)\n",
    "big_matrix = pd.concat([train_all, test_all])"
   ]
  },
  {
   "cell_type": "code",
   "execution_count": 38,
   "metadata": {},
   "outputs": [
    {
     "name": "stdout",
     "output_type": "stream",
     "text": [
      "9777\n",
      "\n",
      " test_all：\n",
      "用户数量：  7167\n",
      "用户平均交互行为个数：   271.92591042277104\n",
      "用户平均点击行为个数：   151.47439653969582\n",
      "用户平均未点击行为个数： 120.45151388307521\n",
      "用户平均喜欢行为个数：   19.599972094321195\n",
      "用户平均完整观看行为个数：   92.01437142458491\n"
     ]
    }
   ],
   "source": [
    "all_video = big_matrix.video_id.unique()\n",
    "print(len(all_video))\n",
    "\n",
    "print(\"\\n test_all：\")\n",
    "df_analysis(test_all)"
   ]
  },
  {
   "cell_type": "code",
   "execution_count": 39,
   "metadata": {},
   "outputs": [
    {
     "name": "stdout",
     "output_type": "stream",
     "text": [
      "过滤掉的video个数有： 538\n",
      "现在的video个数有： 9239\n"
     ]
    }
   ],
   "source": [
    "d = pd.DataFrame(big_matrix.video_id.value_counts())\n",
    "d.columns = ['nums']\n",
    "\n",
    "d = d[d['nums'] < 4]          # 出现小于4次的全部删除\n",
    "delindexs = d.index\n",
    "print(\"过滤掉的video个数有：\", len(delindexs))\n",
    "\n",
    "big_matrix = big_matrix[~big_matrix[\"video_id\"].isin(delindexs)]\n",
    "\n",
    "# 10728\n",
    "item_num = len(big_matrix.video_id.unique())\n",
    "print(\"现在的video个数有：\",item_num)\n"
   ]
  },
  {
   "cell_type": "code",
   "execution_count": 40,
   "metadata": {},
   "outputs": [
    {
     "name": "stdout",
     "output_type": "stream",
     "text": [
      "过滤前：1948852 过滤后：1948852 被过滤的数量：0\n"
     ]
    }
   ],
   "source": [
    "train1 = big_matrix[(big_matrix[\"date\"] >= 20200705) & (big_matrix[\"date\"] <= 20200710)]\n",
    "train2 = big_matrix[(big_matrix[\"date\"] >= 20200801) & (big_matrix[\"date\"] <= 20200808)]\n",
    "train3 = big_matrix[(big_matrix[\"date\"] >= 20200827) & (big_matrix[\"date\"] <= 20200903)]\n",
    "\n",
    "test1 = big_matrix[(big_matrix[\"date\"] >= 20200711) & (big_matrix[\"date\"] <= 20200712)]\n",
    "test2 = big_matrix[(big_matrix[\"date\"] >= 20200809) & (big_matrix[\"date\"] <= 20200810)]\n",
    "test3 = big_matrix[(big_matrix[\"date\"] >= 20200904) & (big_matrix[\"date\"] <= 20200905)]\n",
    "\n",
    "test_all = pd.concat([test1, test2, test3])\n",
    "train_all = pd.concat([train1, train2, train3])\n",
    "\n",
    "test_all = filter_test(train_all, test_all)\n",
    "big_matrix = pd.concat([train_all, test_all])"
   ]
  },
  {
   "cell_type": "code",
   "execution_count": 41,
   "metadata": {},
   "outputs": [
    {
     "name": "stdout",
     "output_type": "stream",
     "text": [
      "现在的video个数有： 9239\n",
      "9239\n",
      "\n",
      " test_all：\n",
      "用户数量：  7167\n",
      "用户平均交互行为个数：   271.9201897586159\n",
      "用户平均点击行为个数：   151.47090832984512\n",
      "用户平均未点击行为个数： 120.44928142877076\n",
      "用户平均喜欢行为个数：   19.598158225198826\n",
      "用户平均完整观看行为个数：   92.01144132831031\n"
     ]
    }
   ],
   "source": [
    "item_num = len(big_matrix.video_id.unique())\n",
    "print(\"现在的video个数有：\",item_num)\n",
    "\n",
    "\n",
    "all_video = big_matrix.video_id.unique()\n",
    "print(len(all_video))\n",
    "\n",
    "print(\"\\n test_all：\")\n",
    "df_analysis(test_all)"
   ]
  },
  {
   "cell_type": "code",
   "execution_count": 42,
   "metadata": {},
   "outputs": [
    {
     "name": "stdout",
     "output_type": "stream",
     "text": [
      "过滤掉的用户有： []\n",
      "过滤掉的video个数有： 1489\n",
      "现在的video个数有： 9239\n",
      "现在的user个数有： 7176\n",
      "现在的video个数有： 9239\n",
      "现在的交互个数有： 11116446\n",
      "现在的每个用户交互个数有： 1549.1145484949832\n",
      "密度： 0.16767123590161093\n"
     ]
    }
   ],
   "source": [
    "# ===========统计===========\n",
    "\n",
    "# 原先有7176个用户，有9个用户被过滤掉，因此需要重新reindex\n",
    "# 注意reindex之后的user_id和其他文件里的user_id会不同\n",
    "user_num = len(big_matrix.user_id.unique())\n",
    "user_list = big_matrix.user_id.unique()\n",
    "filter_user = []\n",
    "for i in range(7176):\n",
    "    if i in user_list:\n",
    "        continue\n",
    "    filter_user.append(i)\n",
    "print(\"过滤掉的用户有：\", filter_user)\n",
    "\n",
    "\n",
    "\n",
    "# 原先有10728个item，\n",
    "# 注意reindex之后的item_id和其他文件里的item_id会不同\n",
    "item_num = len(big_matrix.video_id.unique())\n",
    "item_list = big_matrix.video_id.unique()\n",
    "filter_video = []\n",
    "for i in range(10728):\n",
    "    if i in item_list:\n",
    "        continue\n",
    "    filter_video.append(i)\n",
    "print(\"过滤掉的video个数有：\", len(filter_video))\n",
    "print(\"现在的video个数有：\",len(item_list))\n",
    "# print(\"过滤掉的video有：\", filter_video)\n",
    "\n",
    "\n",
    "print(\"现在的user个数有：\",len(user_list))\n",
    "print(\"现在的video个数有：\",len(item_list))\n",
    "print(\"现在的交互个数有：\", big_matrix.shape[0])\n",
    "print(\"现在的每个用户交互个数有：\", big_matrix.shape[0]/len(user_list))\n",
    "print(\"密度：\", big_matrix.shape[0]/len(item_list)/len(user_list))\n",
    "\n",
    "\n",
    "# ===========处理===========\n",
    "\n",
    "# 对user和item进行reindex\n",
    "user_reindex_dict = dict()\n",
    "user_list = big_matrix.user_id.unique()\n",
    "cur_id = 0\n",
    "for user_id in user_list:\n",
    "    user_reindex_dict[user_id] = cur_id\n",
    "    cur_id = cur_id + 1\n",
    "\n",
    "big_matrix[\"user_id\"] = big_matrix[\"user_id\"].map(lambda x:user_reindex_dict[x])\n",
    "\n",
    "# 对user和item进行reindex\n",
    "video_reindex_dict = dict()\n",
    "video_list = big_matrix.video_id.unique()\n",
    "cur_id = 0\n",
    "for video_id in video_list:\n",
    "    video_reindex_dict[video_id] = cur_id\n",
    "    cur_id = cur_id + 1\n",
    "\n",
    "big_matrix[\"video_id\"] = big_matrix[\"video_id\"].map(lambda x:video_reindex_dict[x])\n",
    "\n",
    "# 注意index是从0开始的"
   ]
  },
  {
   "cell_type": "code",
   "execution_count": 62,
   "metadata": {},
   "outputs": [
    {
     "name": "stdout",
     "output_type": "stream",
     "text": [
      "\n",
      "所有数据集：\n",
      "用户数量：  7176\n",
      "==========================\n",
      "交互行为个数：   11116446\n",
      "点击行为个数：   6203167\n",
      "未点击行为个数： 4913279\n",
      "喜欢行为个数：   834217\n",
      "完整观看行为个数：   3818941\n",
      "==========================\n",
      "用户平均交互行为个数：   1549.1145484949832\n",
      "用户平均点击行为个数：   864.4324136008919\n",
      "用户平均未点击行为个数： 684.6821348940914\n",
      "用户平均喜欢行为个数：   116.25097547380156\n",
      "用户平均完整观看行为个数：   532.1824136008919\n"
     ]
    }
   ],
   "source": [
    "print(\"\\n所有数据集：\")\n",
    "df_analysis(big_matrix)\n"
   ]
  },
  {
   "cell_type": "code",
   "execution_count": null,
   "metadata": {},
   "outputs": [],
   "source": []
  },
  {
   "cell_type": "code",
   "execution_count": 41,
   "metadata": {},
   "outputs": [],
   "source": [
    "import os\n",
    " \n",
    "# 判断文件夹是否存在，不存在则创建\n",
    "dirs1 = './newinputs2' \n",
    "if not os.path.exists(dirs1):\n",
    "    os.makedirs(dirs1)\n",
    "    \n",
    "with open(\"./newinputs2/user_reindex_dict.pkl\", 'wb') as f:\n",
    "    pickle.dump(user_reindex_dict,f)\n",
    "\n",
    "with open(\"./newinputs2/video_reindex_dict.pkl\", 'wb') as f:\n",
    "    pickle.dump(video_reindex_dict,f)"
   ]
  },
  {
   "cell_type": "code",
   "execution_count": 58,
   "metadata": {},
   "outputs": [
    {
     "data": {
      "text/plain": [
       "9239"
      ]
     },
     "execution_count": 58,
     "metadata": {},
     "output_type": "execute_result"
    }
   ],
   "source": [
    "len(video_reindex_dict)"
   ]
  },
  {
   "cell_type": "code",
   "execution_count": 61,
   "metadata": {},
   "outputs": [
    {
     "ename": "TypeError",
     "evalue": "'builtin_function_or_method' object is not subscriptable",
     "output_type": "error",
     "traceback": [
      "\u001b[0;31m---------------------------------------------------------------------------\u001b[0m",
      "\u001b[0;31mTypeError\u001b[0m                                 Traceback (most recent call last)",
      "\u001b[0;32m<ipython-input-61-24be767ad434>\u001b[0m in \u001b[0;36m<module>\u001b[0;34m\u001b[0m\n\u001b[0;32m----> 1\u001b[0;31m \u001b[0mvideo_reindex_dict\u001b[0m\u001b[0;34m.\u001b[0m\u001b[0mvalues\u001b[0m\u001b[0;34m[\u001b[0m\u001b[0;34m-\u001b[0m\u001b[0;36m1\u001b[0m\u001b[0;34m]\u001b[0m\u001b[0;34m\u001b[0m\u001b[0;34m\u001b[0m\u001b[0m\n\u001b[0m",
      "\u001b[0;31mTypeError\u001b[0m: 'builtin_function_or_method' object is not subscriptable"
     ]
    }
   ],
   "source": [
    "video_reindex_dict"
   ]
  },
  {
   "cell_type": "code",
   "execution_count": 43,
   "metadata": {},
   "outputs": [],
   "source": [
    "big_matrix = big_matrix.reset_index(drop=True)"
   ]
  },
  {
   "cell_type": "code",
   "execution_count": 44,
   "metadata": {
    "collapsed": true
   },
   "outputs": [
    {
     "ename": "KeyboardInterrupt",
     "evalue": "",
     "output_type": "error",
     "traceback": [
      "\u001b[0;31m---------------------------------------------------------------------------\u001b[0m",
      "\u001b[0;31mKeyboardInterrupt\u001b[0m                         Traceback (most recent call last)",
      "\u001b[0;32m<ipython-input-44-c2473d8003d8>\u001b[0m in \u001b[0;36m<module>\u001b[0;34m\u001b[0m\n\u001b[1;32m     12\u001b[0m     \u001b[0;32melse\u001b[0m\u001b[0;34m:\u001b[0m\u001b[0;34m\u001b[0m\u001b[0;34m\u001b[0m\u001b[0m\n\u001b[1;32m     13\u001b[0m         \u001b[0;32mreturn\u001b[0m \u001b[0;36m4\u001b[0m\u001b[0;34m\u001b[0m\u001b[0;34m\u001b[0m\u001b[0m\n\u001b[0;32m---> 14\u001b[0;31m \u001b[0mbig_matrix\u001b[0m\u001b[0;34m[\u001b[0m\u001b[0;34m\"time_span\"\u001b[0m\u001b[0;34m]\u001b[0m \u001b[0;34m=\u001b[0m \u001b[0mbig_matrix\u001b[0m\u001b[0;34m.\u001b[0m\u001b[0mapply\u001b[0m\u001b[0;34m(\u001b[0m\u001b[0mtime_span_set\u001b[0m\u001b[0;34m,\u001b[0m \u001b[0maxis\u001b[0m \u001b[0;34m=\u001b[0m \u001b[0;36m1\u001b[0m\u001b[0;34m)\u001b[0m\u001b[0;34m\u001b[0m\u001b[0;34m\u001b[0m\u001b[0m\n\u001b[0m",
      "\u001b[0;32m~/anaconda3/lib/python3.7/site-packages/pandas/core/frame.py\u001b[0m in \u001b[0;36mapply\u001b[0;34m(self, func, axis, broadcast, raw, reduce, result_type, args, **kwds)\u001b[0m\n\u001b[1;32m   6911\u001b[0m             \u001b[0mkwds\u001b[0m\u001b[0;34m=\u001b[0m\u001b[0mkwds\u001b[0m\u001b[0;34m,\u001b[0m\u001b[0;34m\u001b[0m\u001b[0;34m\u001b[0m\u001b[0m\n\u001b[1;32m   6912\u001b[0m         )\n\u001b[0;32m-> 6913\u001b[0;31m         \u001b[0;32mreturn\u001b[0m \u001b[0mop\u001b[0m\u001b[0;34m.\u001b[0m\u001b[0mget_result\u001b[0m\u001b[0;34m(\u001b[0m\u001b[0;34m)\u001b[0m\u001b[0;34m\u001b[0m\u001b[0;34m\u001b[0m\u001b[0m\n\u001b[0m\u001b[1;32m   6914\u001b[0m \u001b[0;34m\u001b[0m\u001b[0m\n\u001b[1;32m   6915\u001b[0m     \u001b[0;32mdef\u001b[0m \u001b[0mapplymap\u001b[0m\u001b[0;34m(\u001b[0m\u001b[0mself\u001b[0m\u001b[0;34m,\u001b[0m \u001b[0mfunc\u001b[0m\u001b[0;34m)\u001b[0m\u001b[0;34m:\u001b[0m\u001b[0;34m\u001b[0m\u001b[0;34m\u001b[0m\u001b[0m\n",
      "\u001b[0;32m~/anaconda3/lib/python3.7/site-packages/pandas/core/apply.py\u001b[0m in \u001b[0;36mget_result\u001b[0;34m(self)\u001b[0m\n\u001b[1;32m    184\u001b[0m             \u001b[0;32mreturn\u001b[0m \u001b[0mself\u001b[0m\u001b[0;34m.\u001b[0m\u001b[0mapply_raw\u001b[0m\u001b[0;34m(\u001b[0m\u001b[0;34m)\u001b[0m\u001b[0;34m\u001b[0m\u001b[0;34m\u001b[0m\u001b[0m\n\u001b[1;32m    185\u001b[0m \u001b[0;34m\u001b[0m\u001b[0m\n\u001b[0;32m--> 186\u001b[0;31m         \u001b[0;32mreturn\u001b[0m \u001b[0mself\u001b[0m\u001b[0;34m.\u001b[0m\u001b[0mapply_standard\u001b[0m\u001b[0;34m(\u001b[0m\u001b[0;34m)\u001b[0m\u001b[0;34m\u001b[0m\u001b[0;34m\u001b[0m\u001b[0m\n\u001b[0m\u001b[1;32m    187\u001b[0m \u001b[0;34m\u001b[0m\u001b[0m\n\u001b[1;32m    188\u001b[0m     \u001b[0;32mdef\u001b[0m \u001b[0mapply_empty_result\u001b[0m\u001b[0;34m(\u001b[0m\u001b[0mself\u001b[0m\u001b[0;34m)\u001b[0m\u001b[0;34m:\u001b[0m\u001b[0;34m\u001b[0m\u001b[0;34m\u001b[0m\u001b[0m\n",
      "\u001b[0;32m~/anaconda3/lib/python3.7/site-packages/pandas/core/apply.py\u001b[0m in \u001b[0;36mapply_standard\u001b[0;34m(self)\u001b[0m\n\u001b[1;32m    283\u001b[0m             \u001b[0;32mtry\u001b[0m\u001b[0;34m:\u001b[0m\u001b[0;34m\u001b[0m\u001b[0;34m\u001b[0m\u001b[0m\n\u001b[1;32m    284\u001b[0m                 result = reduction.reduce(\n\u001b[0;32m--> 285\u001b[0;31m                     \u001b[0mvalues\u001b[0m\u001b[0;34m,\u001b[0m \u001b[0mself\u001b[0m\u001b[0;34m.\u001b[0m\u001b[0mf\u001b[0m\u001b[0;34m,\u001b[0m \u001b[0maxis\u001b[0m\u001b[0;34m=\u001b[0m\u001b[0mself\u001b[0m\u001b[0;34m.\u001b[0m\u001b[0maxis\u001b[0m\u001b[0;34m,\u001b[0m \u001b[0mdummy\u001b[0m\u001b[0;34m=\u001b[0m\u001b[0mdummy\u001b[0m\u001b[0;34m,\u001b[0m \u001b[0mlabels\u001b[0m\u001b[0;34m=\u001b[0m\u001b[0mlabels\u001b[0m\u001b[0;34m\u001b[0m\u001b[0;34m\u001b[0m\u001b[0m\n\u001b[0m\u001b[1;32m    286\u001b[0m                 )\n\u001b[1;32m    287\u001b[0m                 \u001b[0;32mreturn\u001b[0m \u001b[0mself\u001b[0m\u001b[0;34m.\u001b[0m\u001b[0mobj\u001b[0m\u001b[0;34m.\u001b[0m\u001b[0m_constructor_sliced\u001b[0m\u001b[0;34m(\u001b[0m\u001b[0mresult\u001b[0m\u001b[0;34m,\u001b[0m \u001b[0mindex\u001b[0m\u001b[0;34m=\u001b[0m\u001b[0mlabels\u001b[0m\u001b[0;34m)\u001b[0m\u001b[0;34m\u001b[0m\u001b[0;34m\u001b[0m\u001b[0m\n",
      "\u001b[0;32mpandas/_libs/reduction.pyx\u001b[0m in \u001b[0;36mpandas._libs.reduction.reduce\u001b[0;34m()\u001b[0m\n",
      "\u001b[0;32mpandas/_libs/reduction.pyx\u001b[0m in \u001b[0;36mpandas._libs.reduction.Reducer.get_result\u001b[0;34m()\u001b[0m\n",
      "\u001b[0;32m<ipython-input-44-c2473d8003d8>\u001b[0m in \u001b[0;36mtime_span_set\u001b[0;34m(x)\u001b[0m\n\u001b[1;32m      6\u001b[0m     \u001b[0;32mif\u001b[0m \u001b[0mx\u001b[0m\u001b[0;34m.\u001b[0m\u001b[0mdate\u001b[0m \u001b[0;34m>=\u001b[0m \u001b[0;36m20200705\u001b[0m \u001b[0;32mand\u001b[0m \u001b[0mx\u001b[0m\u001b[0;34m.\u001b[0m\u001b[0mdate\u001b[0m \u001b[0;34m<=\u001b[0m \u001b[0;36m20200712\u001b[0m\u001b[0;34m:\u001b[0m\u001b[0;34m\u001b[0m\u001b[0;34m\u001b[0m\u001b[0m\n\u001b[1;32m      7\u001b[0m         \u001b[0;32mreturn\u001b[0m \u001b[0;36m1\u001b[0m\u001b[0;34m\u001b[0m\u001b[0;34m\u001b[0m\u001b[0m\n\u001b[0;32m----> 8\u001b[0;31m     \u001b[0;32melif\u001b[0m \u001b[0mx\u001b[0m\u001b[0;34m.\u001b[0m\u001b[0mdate\u001b[0m \u001b[0;34m>=\u001b[0m \u001b[0;36m20200801\u001b[0m \u001b[0;32mand\u001b[0m \u001b[0mx\u001b[0m\u001b[0;34m.\u001b[0m\u001b[0mdate\u001b[0m \u001b[0;34m<=\u001b[0m \u001b[0;36m20200810\u001b[0m\u001b[0;34m:\u001b[0m\u001b[0;34m\u001b[0m\u001b[0;34m\u001b[0m\u001b[0m\n\u001b[0m\u001b[1;32m      9\u001b[0m         \u001b[0;32mreturn\u001b[0m \u001b[0;36m2\u001b[0m\u001b[0;34m\u001b[0m\u001b[0;34m\u001b[0m\u001b[0m\n\u001b[1;32m     10\u001b[0m     \u001b[0;32melif\u001b[0m \u001b[0mx\u001b[0m\u001b[0;34m.\u001b[0m\u001b[0mdate\u001b[0m \u001b[0;34m>=\u001b[0m \u001b[0;36m20200827\u001b[0m \u001b[0;32mand\u001b[0m \u001b[0mx\u001b[0m\u001b[0;34m.\u001b[0m\u001b[0mdate\u001b[0m \u001b[0;34m<=\u001b[0m \u001b[0;36m20200905\u001b[0m\u001b[0;34m:\u001b[0m\u001b[0;34m\u001b[0m\u001b[0;34m\u001b[0m\u001b[0m\n",
      "\u001b[0;32m~/anaconda3/lib/python3.7/site-packages/pandas/core/generic.py\u001b[0m in \u001b[0;36m__getattr__\u001b[0;34m(self, name)\u001b[0m\n\u001b[1;32m   5175\u001b[0m             \u001b[0;32mreturn\u001b[0m \u001b[0mobject\u001b[0m\u001b[0;34m.\u001b[0m\u001b[0m__getattribute__\u001b[0m\u001b[0;34m(\u001b[0m\u001b[0mself\u001b[0m\u001b[0;34m,\u001b[0m \u001b[0mname\u001b[0m\u001b[0;34m)\u001b[0m\u001b[0;34m\u001b[0m\u001b[0;34m\u001b[0m\u001b[0m\n\u001b[1;32m   5176\u001b[0m         \u001b[0;32melse\u001b[0m\u001b[0;34m:\u001b[0m\u001b[0;34m\u001b[0m\u001b[0;34m\u001b[0m\u001b[0m\n\u001b[0;32m-> 5177\u001b[0;31m             \u001b[0;32mif\u001b[0m \u001b[0mself\u001b[0m\u001b[0;34m.\u001b[0m\u001b[0m_info_axis\u001b[0m\u001b[0;34m.\u001b[0m\u001b[0m_can_hold_identifiers_and_holds_name\u001b[0m\u001b[0;34m(\u001b[0m\u001b[0mname\u001b[0m\u001b[0;34m)\u001b[0m\u001b[0;34m:\u001b[0m\u001b[0;34m\u001b[0m\u001b[0;34m\u001b[0m\u001b[0m\n\u001b[0m\u001b[1;32m   5178\u001b[0m                 \u001b[0;32mreturn\u001b[0m \u001b[0mself\u001b[0m\u001b[0;34m[\u001b[0m\u001b[0mname\u001b[0m\u001b[0;34m]\u001b[0m\u001b[0;34m\u001b[0m\u001b[0;34m\u001b[0m\u001b[0m\n\u001b[1;32m   5179\u001b[0m             \u001b[0;32mreturn\u001b[0m \u001b[0mobject\u001b[0m\u001b[0;34m.\u001b[0m\u001b[0m__getattribute__\u001b[0m\u001b[0;34m(\u001b[0m\u001b[0mself\u001b[0m\u001b[0;34m,\u001b[0m \u001b[0mname\u001b[0m\u001b[0;34m)\u001b[0m\u001b[0;34m\u001b[0m\u001b[0;34m\u001b[0m\u001b[0m\n",
      "\u001b[0;31mKeyboardInterrupt\u001b[0m: "
     ]
    }
   ],
   "source": [
    "# 20200705, 20200706, 20200707, 20200708, 20200709, 20200710, 20200711, 20200712      \n",
    "# 20200801, 20200802, 20200803, 20200804, 20200805, 20200806, 20200807, 20200808, 20200809, 20200810\n",
    "# 20200827, 20200828, 20200829, 20200830, 20200831, 20200901, 20200902, 20200903, 20200904, 20200905\n",
    "# 给交互数据打上time_span 标签\n",
    "def time_span_set(x):\n",
    "    if x.date >= 20200705 and x.date <= 20200712:\n",
    "        return 1\n",
    "    elif x.date >= 20200801 and x.date <= 20200810:\n",
    "        return 2\n",
    "    elif x.date >= 20200827 and x.date <= 20200905:\n",
    "        return 3\n",
    "    else:\n",
    "        return 4\n",
    "big_matrix[\"time_span\"] = big_matrix.apply(time_span_set, axis = 1)"
   ]
  },
  {
   "cell_type": "code",
   "execution_count": null,
   "metadata": {},
   "outputs": [],
   "source": [
    "big_matrix[200000:200005]"
   ]
  },
  {
   "cell_type": "code",
   "execution_count": 45,
   "metadata": {},
   "outputs": [],
   "source": [
    "# # 观察用户0 1 2 3的行为\n",
    "# temp = train1[train1.user_id.isin([0,1,2,3])]\n",
    "# temp = temp[[\"user_id\",\"video_id\",\"validclick\"]]\n",
    "# temp.to_csv(\"user4.csv\",header = True, index=None)"
   ]
  },
  {
   "cell_type": "code",
   "execution_count": null,
   "metadata": {},
   "outputs": [],
   "source": []
  },
  {
   "cell_type": "markdown",
   "metadata": {},
   "source": [
    "# 生成用户的entire seq以及click mask、like mask还有end_idx"
   ]
  },
  {
   "cell_type": "code",
   "execution_count": 46,
   "metadata": {},
   "outputs": [],
   "source": [
    "# 得到每个行为对应的end_idx   从1开始\n",
    "big_matrix = big_matrix.sort_values(by=['user_id', 'time_span','timestamp'],ascending=True)\n",
    "big_matrix = big_matrix.reset_index(drop=True)   \n",
    "big_matrix = big_matrix.reset_index()   # 多了一列 index\n",
    "\n",
    "big_matrix = big_matrix.rename(columns={'index':'inter_index'})\n",
    "isduplicated = big_matrix.duplicated(subset=[\"user_id\",\"time_span\"], keep='first') \n",
    "\n",
    "first_df = big_matrix[isduplicated==False]\n",
    "first_df = first_df.reset_index()\n",
    "first_df = first_df.rename(columns={'index':'first_index'})\n",
    "first_df = first_df[[\"user_id\",\"time_span\",\"first_index\"]]\n",
    "\n",
    "result = pd.merge(big_matrix, first_df, how='left', on=['user_id', 'time_span'])\n",
    "result[\"entire_end_idx\"] = result[\"inter_index\"] - result[\"first_index\"]\n",
    "# result = result.drop(columns=['index', 'first_index'])\n",
    "\n",
    "big_matrix = result"
   ]
  },
  {
   "cell_type": "code",
   "execution_count": null,
   "metadata": {},
   "outputs": [],
   "source": []
  },
  {
   "cell_type": "code",
   "execution_count": 47,
   "metadata": {
    "collapsed": true
   },
   "outputs": [
    {
     "data": {
      "text/html": [
       "<div>\n",
       "<style scoped>\n",
       "    .dataframe tbody tr th:only-of-type {\n",
       "        vertical-align: middle;\n",
       "    }\n",
       "\n",
       "    .dataframe tbody tr th {\n",
       "        vertical-align: top;\n",
       "    }\n",
       "\n",
       "    .dataframe thead th {\n",
       "        text-align: right;\n",
       "    }\n",
       "</style>\n",
       "<table border=\"1\" class=\"dataframe\">\n",
       "  <thead>\n",
       "    <tr style=\"text-align: right;\">\n",
       "      <th></th>\n",
       "      <th>inter_index</th>\n",
       "      <th>user_id</th>\n",
       "      <th>video_id</th>\n",
       "      <th>play_duration</th>\n",
       "      <th>video_duration</th>\n",
       "      <th>time</th>\n",
       "      <th>date</th>\n",
       "      <th>timestamp</th>\n",
       "      <th>watch_ratio</th>\n",
       "      <th>cate_id</th>\n",
       "      <th>tag_id</th>\n",
       "      <th>video_tag_name</th>\n",
       "      <th>like</th>\n",
       "      <th>completeclick</th>\n",
       "      <th>longclick</th>\n",
       "      <th>validclick</th>\n",
       "      <th>shortplay</th>\n",
       "      <th>time_span</th>\n",
       "      <th>first_index</th>\n",
       "      <th>entire_end_idx</th>\n",
       "    </tr>\n",
       "  </thead>\n",
       "  <tbody>\n",
       "    <tr>\n",
       "      <td>1327533</td>\n",
       "      <td>1327533</td>\n",
       "      <td>834</td>\n",
       "      <td>5059</td>\n",
       "      <td>5595</td>\n",
       "      <td>6567</td>\n",
       "      <td>2020-08-01 12:29:09.76</td>\n",
       "      <td>20200801</td>\n",
       "      <td>1.596256e+09</td>\n",
       "      <td>0.851987</td>\n",
       "      <td>28</td>\n",
       "      <td>3</td>\n",
       "      <td>资讯</td>\n",
       "      <td>False</td>\n",
       "      <td>False</td>\n",
       "      <td>False</td>\n",
       "      <td>False</td>\n",
       "      <td>False</td>\n",
       "      <td>2</td>\n",
       "      <td>1327533</td>\n",
       "      <td>0</td>\n",
       "    </tr>\n",
       "    <tr>\n",
       "      <td>1327534</td>\n",
       "      <td>1327534</td>\n",
       "      <td>834</td>\n",
       "      <td>3575</td>\n",
       "      <td>8153</td>\n",
       "      <td>11400</td>\n",
       "      <td>2020-08-01 12:29:23.938</td>\n",
       "      <td>20200801</td>\n",
       "      <td>1.596256e+09</td>\n",
       "      <td>0.715175</td>\n",
       "      <td>7</td>\n",
       "      <td>8</td>\n",
       "      <td>运动</td>\n",
       "      <td>False</td>\n",
       "      <td>False</td>\n",
       "      <td>False</td>\n",
       "      <td>True</td>\n",
       "      <td>False</td>\n",
       "      <td>2</td>\n",
       "      <td>1327533</td>\n",
       "      <td>1</td>\n",
       "    </tr>\n",
       "    <tr>\n",
       "      <td>1327535</td>\n",
       "      <td>1327535</td>\n",
       "      <td>834</td>\n",
       "      <td>2541</td>\n",
       "      <td>7287</td>\n",
       "      <td>13167</td>\n",
       "      <td>2020-08-01 12:29:41.277</td>\n",
       "      <td>20200801</td>\n",
       "      <td>1.596256e+09</td>\n",
       "      <td>0.553429</td>\n",
       "      <td>6</td>\n",
       "      <td>4</td>\n",
       "      <td>娱乐</td>\n",
       "      <td>False</td>\n",
       "      <td>False</td>\n",
       "      <td>False</td>\n",
       "      <td>True</td>\n",
       "      <td>False</td>\n",
       "      <td>2</td>\n",
       "      <td>1327533</td>\n",
       "      <td>2</td>\n",
       "    </tr>\n",
       "    <tr>\n",
       "      <td>1327536</td>\n",
       "      <td>1327536</td>\n",
       "      <td>834</td>\n",
       "      <td>2276</td>\n",
       "      <td>7202</td>\n",
       "      <td>5700</td>\n",
       "      <td>2020-08-01 12:30:55.618</td>\n",
       "      <td>20200801</td>\n",
       "      <td>1.596256e+09</td>\n",
       "      <td>1.263509</td>\n",
       "      <td>7</td>\n",
       "      <td>8</td>\n",
       "      <td>运动</td>\n",
       "      <td>False</td>\n",
       "      <td>True</td>\n",
       "      <td>True</td>\n",
       "      <td>True</td>\n",
       "      <td>False</td>\n",
       "      <td>2</td>\n",
       "      <td>1327533</td>\n",
       "      <td>3</td>\n",
       "    </tr>\n",
       "    <tr>\n",
       "      <td>1327537</td>\n",
       "      <td>1327537</td>\n",
       "      <td>834</td>\n",
       "      <td>4414</td>\n",
       "      <td>5910</td>\n",
       "      <td>20538</td>\n",
       "      <td>2020-08-01 12:31:44.432</td>\n",
       "      <td>20200801</td>\n",
       "      <td>1.596256e+09</td>\n",
       "      <td>0.287759</td>\n",
       "      <td>11</td>\n",
       "      <td>1</td>\n",
       "      <td>生活</td>\n",
       "      <td>False</td>\n",
       "      <td>False</td>\n",
       "      <td>False</td>\n",
       "      <td>False</td>\n",
       "      <td>False</td>\n",
       "      <td>2</td>\n",
       "      <td>1327533</td>\n",
       "      <td>4</td>\n",
       "    </tr>\n",
       "    <tr>\n",
       "      <td>...</td>\n",
       "      <td>...</td>\n",
       "      <td>...</td>\n",
       "      <td>...</td>\n",
       "      <td>...</td>\n",
       "      <td>...</td>\n",
       "      <td>...</td>\n",
       "      <td>...</td>\n",
       "      <td>...</td>\n",
       "      <td>...</td>\n",
       "      <td>...</td>\n",
       "      <td>...</td>\n",
       "      <td>...</td>\n",
       "      <td>...</td>\n",
       "      <td>...</td>\n",
       "      <td>...</td>\n",
       "      <td>...</td>\n",
       "      <td>...</td>\n",
       "      <td>...</td>\n",
       "      <td>...</td>\n",
       "      <td>...</td>\n",
       "    </tr>\n",
       "    <tr>\n",
       "      <td>1329739</td>\n",
       "      <td>1329739</td>\n",
       "      <td>834</td>\n",
       "      <td>2380</td>\n",
       "      <td>5751</td>\n",
       "      <td>9567</td>\n",
       "      <td>2020-08-10 10:22:01.534</td>\n",
       "      <td>20200810</td>\n",
       "      <td>1.597026e+09</td>\n",
       "      <td>0.601129</td>\n",
       "      <td>28</td>\n",
       "      <td>3</td>\n",
       "      <td>资讯</td>\n",
       "      <td>False</td>\n",
       "      <td>False</td>\n",
       "      <td>False</td>\n",
       "      <td>False</td>\n",
       "      <td>False</td>\n",
       "      <td>2</td>\n",
       "      <td>1327533</td>\n",
       "      <td>2206</td>\n",
       "    </tr>\n",
       "    <tr>\n",
       "      <td>1329740</td>\n",
       "      <td>1329740</td>\n",
       "      <td>834</td>\n",
       "      <td>5733</td>\n",
       "      <td>5486</td>\n",
       "      <td>6767</td>\n",
       "      <td>2020-08-10 10:31:50.433</td>\n",
       "      <td>20200810</td>\n",
       "      <td>1.597027e+09</td>\n",
       "      <td>0.810699</td>\n",
       "      <td>5</td>\n",
       "      <td>2</td>\n",
       "      <td>穿搭</td>\n",
       "      <td>False</td>\n",
       "      <td>False</td>\n",
       "      <td>False</td>\n",
       "      <td>False</td>\n",
       "      <td>False</td>\n",
       "      <td>2</td>\n",
       "      <td>1327533</td>\n",
       "      <td>2207</td>\n",
       "    </tr>\n",
       "    <tr>\n",
       "      <td>1329741</td>\n",
       "      <td>1329741</td>\n",
       "      <td>834</td>\n",
       "      <td>3904</td>\n",
       "      <td>8126</td>\n",
       "      <td>7034</td>\n",
       "      <td>2020-08-10 10:35:10.661</td>\n",
       "      <td>20200810</td>\n",
       "      <td>1.597027e+09</td>\n",
       "      <td>1.155246</td>\n",
       "      <td>15</td>\n",
       "      <td>0</td>\n",
       "      <td>unknown</td>\n",
       "      <td>False</td>\n",
       "      <td>True</td>\n",
       "      <td>True</td>\n",
       "      <td>True</td>\n",
       "      <td>False</td>\n",
       "      <td>2</td>\n",
       "      <td>1327533</td>\n",
       "      <td>2208</td>\n",
       "    </tr>\n",
       "    <tr>\n",
       "      <td>1329742</td>\n",
       "      <td>1329742</td>\n",
       "      <td>834</td>\n",
       "      <td>3790</td>\n",
       "      <td>8030</td>\n",
       "      <td>11617</td>\n",
       "      <td>2020-08-10 10:40:08.147</td>\n",
       "      <td>20200810</td>\n",
       "      <td>1.597027e+09</td>\n",
       "      <td>0.691228</td>\n",
       "      <td>19</td>\n",
       "      <td>6</td>\n",
       "      <td>情感</td>\n",
       "      <td>False</td>\n",
       "      <td>False</td>\n",
       "      <td>False</td>\n",
       "      <td>True</td>\n",
       "      <td>False</td>\n",
       "      <td>2</td>\n",
       "      <td>1327533</td>\n",
       "      <td>2209</td>\n",
       "    </tr>\n",
       "    <tr>\n",
       "      <td>1329743</td>\n",
       "      <td>1329743</td>\n",
       "      <td>834</td>\n",
       "      <td>6493</td>\n",
       "      <td>7207</td>\n",
       "      <td>9276</td>\n",
       "      <td>2020-08-10 10:50:57.531</td>\n",
       "      <td>20200810</td>\n",
       "      <td>1.597028e+09</td>\n",
       "      <td>0.776951</td>\n",
       "      <td>17</td>\n",
       "      <td>14</td>\n",
       "      <td>动物</td>\n",
       "      <td>False</td>\n",
       "      <td>False</td>\n",
       "      <td>False</td>\n",
       "      <td>True</td>\n",
       "      <td>False</td>\n",
       "      <td>2</td>\n",
       "      <td>1327533</td>\n",
       "      <td>2210</td>\n",
       "    </tr>\n",
       "  </tbody>\n",
       "</table>\n",
       "<p>2211 rows × 20 columns</p>\n",
       "</div>"
      ],
      "text/plain": [
       "         inter_index  user_id  video_id  play_duration  video_duration  \\\n",
       "1327533      1327533      834      5059           5595            6567   \n",
       "1327534      1327534      834      3575           8153           11400   \n",
       "1327535      1327535      834      2541           7287           13167   \n",
       "1327536      1327536      834      2276           7202            5700   \n",
       "1327537      1327537      834      4414           5910           20538   \n",
       "...              ...      ...       ...            ...             ...   \n",
       "1329739      1329739      834      2380           5751            9567   \n",
       "1329740      1329740      834      5733           5486            6767   \n",
       "1329741      1329741      834      3904           8126            7034   \n",
       "1329742      1329742      834      3790           8030           11617   \n",
       "1329743      1329743      834      6493           7207            9276   \n",
       "\n",
       "                            time      date     timestamp  watch_ratio  \\\n",
       "1327533   2020-08-01 12:29:09.76  20200801  1.596256e+09     0.851987   \n",
       "1327534  2020-08-01 12:29:23.938  20200801  1.596256e+09     0.715175   \n",
       "1327535  2020-08-01 12:29:41.277  20200801  1.596256e+09     0.553429   \n",
       "1327536  2020-08-01 12:30:55.618  20200801  1.596256e+09     1.263509   \n",
       "1327537  2020-08-01 12:31:44.432  20200801  1.596256e+09     0.287759   \n",
       "...                          ...       ...           ...          ...   \n",
       "1329739  2020-08-10 10:22:01.534  20200810  1.597026e+09     0.601129   \n",
       "1329740  2020-08-10 10:31:50.433  20200810  1.597027e+09     0.810699   \n",
       "1329741  2020-08-10 10:35:10.661  20200810  1.597027e+09     1.155246   \n",
       "1329742  2020-08-10 10:40:08.147  20200810  1.597027e+09     0.691228   \n",
       "1329743  2020-08-10 10:50:57.531  20200810  1.597028e+09     0.776951   \n",
       "\n",
       "         cate_id  tag_id video_tag_name   like  completeclick  longclick  \\\n",
       "1327533       28       3             资讯  False          False      False   \n",
       "1327534        7       8             运动  False          False      False   \n",
       "1327535        6       4             娱乐  False          False      False   \n",
       "1327536        7       8             运动  False           True       True   \n",
       "1327537       11       1             生活  False          False      False   \n",
       "...          ...     ...            ...    ...            ...        ...   \n",
       "1329739       28       3             资讯  False          False      False   \n",
       "1329740        5       2             穿搭  False          False      False   \n",
       "1329741       15       0        unknown  False           True       True   \n",
       "1329742       19       6             情感  False          False      False   \n",
       "1329743       17      14             动物  False          False      False   \n",
       "\n",
       "         validclick  shortplay  time_span  first_index  entire_end_idx  \n",
       "1327533       False      False          2      1327533               0  \n",
       "1327534        True      False          2      1327533               1  \n",
       "1327535        True      False          2      1327533               2  \n",
       "1327536        True      False          2      1327533               3  \n",
       "1327537       False      False          2      1327533               4  \n",
       "...             ...        ...        ...          ...             ...  \n",
       "1329739       False      False          2      1327533            2206  \n",
       "1329740       False      False          2      1327533            2207  \n",
       "1329741        True      False          2      1327533            2208  \n",
       "1329742        True      False          2      1327533            2209  \n",
       "1329743        True      False          2      1327533            2210  \n",
       "\n",
       "[2211 rows x 20 columns]"
      ]
     },
     "execution_count": 47,
     "metadata": {},
     "output_type": "execute_result"
    }
   ],
   "source": [
    "big_matrix[(big_matrix.user_id == 834) & (big_matrix.time_span == 2)]"
   ]
  },
  {
   "cell_type": "code",
   "execution_count": null,
   "metadata": {},
   "outputs": [],
   "source": []
  },
  {
   "cell_type": "code",
   "execution_count": 48,
   "metadata": {},
   "outputs": [],
   "source": [
    "# 得到用户的行为序列 click_mask  like_mask\n",
    "\n",
    "user_time_df = big_matrix[['user_id','time_span']].drop_duplicates()\n",
    "user_big_matrix = big_matrix.groupby(['user_id','time_span'])\n",
    "user_list = big_matrix.user_id.unique()\n",
    "\n",
    "\n",
    "user_entire_seq = [[[],[],[]] for user_id in user_list]\n",
    "user_item_cate_seq = [[[],[],[]] for user_id in user_list]\n",
    "user_item_tag_seq = [[[],[],[]] for user_id in user_list]\n",
    "\n",
    "\n",
    "click_mask = [[[],[],[]] for user_id in user_list]     #存储3个time_span的msk\n",
    "like_mask = [[[],[],[]] for user_id in user_list]\n",
    "complete_mask = [[[],[],[]] for user_id in user_list]\n",
    "\n",
    "all_num = user_time_df.shape[0]\n",
    "for idx in range(all_num):\n",
    "    user_id = user_time_df.iloc[idx][\"user_id\"]\n",
    "    time_id = user_time_df.iloc[idx][\"time_span\"]\n",
    "   \n",
    "    items = user_big_matrix.get_group((user_id,time_id))[\"video_id\"].values\n",
    "    item_cates = user_big_matrix.get_group((user_id,time_id))[\"cate_id\"].values\n",
    "    item_tags = user_big_matrix.get_group((user_id,time_id))[\"tag_id\"].values\n",
    "\n",
    "    is_click = user_big_matrix.get_group((user_id,time_id))[\"validclick\"].values\n",
    "    is_like = user_big_matrix.get_group((user_id,time_id))[\"like\"].values\n",
    "    is_complete = user_big_matrix.get_group((user_id,time_id))[\"completeclick\"].values\n",
    "    \n",
    "    \n",
    "    user_entire_seq[user_id][time_id-1]=items\n",
    "    user_item_cate_seq[user_id][time_id-1]=item_cates\n",
    "    user_item_tag_seq[user_id][time_id-1]=item_tags\n",
    "\n",
    "    click_mask[user_id][time_id-1]=is_click\n",
    "    like_mask[user_id][time_id-1]=is_like\n",
    "    complete_mask[user_id][time_id-1]=is_complete"
   ]
  },
  {
   "cell_type": "code",
   "execution_count": null,
   "metadata": {},
   "outputs": [],
   "source": []
  },
  {
   "cell_type": "code",
   "execution_count": 50,
   "metadata": {},
   "outputs": [
    {
     "name": "stdout",
     "output_type": "stream",
     "text": [
      "原来交互数量： 11095249\n",
      "现在交互数量： 11095249\n"
     ]
    }
   ],
   "source": [
    "print(\"原来交互数量：\", big_matrix.shape[0])\n",
    "big_matrix = big_matrix[(big_matrix.entire_end_idx != 0)]\n",
    "print(\"现在交互数量：\", big_matrix.shape[0])"
   ]
  },
  {
   "cell_type": "code",
   "execution_count": null,
   "metadata": {},
   "outputs": [],
   "source": []
  },
  {
   "cell_type": "code",
   "execution_count": 51,
   "metadata": {},
   "outputs": [],
   "source": [
    "big_matrix = big_matrix[[\"user_id\",\"video_id\",\"validclick\",\"like\",\"watch_ratio\",\"time_span\",\"entire_end_idx\",\"completeclick\",\"cate_id\",\"tag_id\",\"date\",\"timestamp\"]]"
   ]
  },
  {
   "cell_type": "code",
   "execution_count": 52,
   "metadata": {},
   "outputs": [],
   "source": [
    "train1 = big_matrix[(big_matrix[\"date\"] >= 20200705) & (big_matrix[\"date\"] <= 20200710)]\n",
    "train2 = big_matrix[(big_matrix[\"date\"] >= 20200801) & (big_matrix[\"date\"] <= 20200808)]\n",
    "train3 = big_matrix[(big_matrix[\"date\"] >= 20200827) & (big_matrix[\"date\"] <= 20200903)]\n",
    "\n",
    "test1 = big_matrix[(big_matrix[\"date\"] >= 20200711) & (big_matrix[\"date\"] <= 20200712)]\n",
    "test2 = big_matrix[(big_matrix[\"date\"] >= 20200809) & (big_matrix[\"date\"] <= 20200810)]\n",
    "test3 = big_matrix[(big_matrix[\"date\"] >= 20200904) & (big_matrix[\"date\"] <= 20200905)]\n",
    "\n",
    "test_all = pd.concat([test1, test2, test3])\n",
    "train_all = pd.concat([train1, train2, train3])"
   ]
  },
  {
   "cell_type": "code",
   "execution_count": 53,
   "metadata": {
    "collapsed": true
   },
   "outputs": [
    {
     "data": {
      "text/plain": [
       "array([   0,    1,    2,    3,    4,    5,    6,    7,    8,    9,   10,\n",
       "         11,   12,   13,   14,   15,   16,   17,   18,   19,   20,   21,\n",
       "         22,   23,   24,   25,   26,   27,   28,   29,   30,   31,   32,\n",
       "         33,   34,   35,   36,   37,   38,   39,   40,   41,   42,   43,\n",
       "         44,   45,   46,   47,   48,   49,   50,   51,   52,   53,   54,\n",
       "         55,   56,   57,   58,   59,   60,   61,   62,   63,   64,   65,\n",
       "         66,   67,   68,   69,   70,   71,   72,   73,   74,   75,   76,\n",
       "         77,   78,   79,   80,   81,   82,   83,   84,   85,   86,   87,\n",
       "         88,   89,   90,   91,   92,   93,   94,   95,   96,   97,   98,\n",
       "         99,  100,  101,  102,  103,  104,  105,  106,  107,  108,  109,\n",
       "        110,  111,  112,  113,  114,  115,  116,  117,  118,  119,  120,\n",
       "        121,  122,  123,  124,  125,  126,  127,  128,  129,  130,  131,\n",
       "        132,  133,  134,  135,  136,  137,  138,  139,  140,  141,  142,\n",
       "        143,  144,  145,  146,  147,  148,  149,  150,  151,  152,  153,\n",
       "        154,  155,  156,  157,  158,  159,  160,  161,  162,  163,  164,\n",
       "        165,  166,  167,  168,  169,  170,  171,  172,  173,  174,  175,\n",
       "        176,  177,  178,  179,  180,  181,  182,  183,  184,  185,  186,\n",
       "        187,  188,  189,  190,  191,  192,  193,  194,  195,  196,  197,\n",
       "        198,  199,  200,  201,  202,  203,  204,  205,  206,  207,  208,\n",
       "        209,  210,  211,  212,  213,  214,  215,  216,  217,  218,  219,\n",
       "        220,  221,  222,  223,  224,  225,  226,  227,  228,  229,  230,\n",
       "        231,  232,  233,  234,  235,  236,  237,  238,  239,  240,  241,\n",
       "        242,  243,  244,  245,  246,  247,  248,  249,  250,  251,  252,\n",
       "        253,  254,  255,  256,  257,  258,  259,  260,  261,  262,  263,\n",
       "        264,  265,  266,  267,  268,  269,  270,  271,  272,  273,  274,\n",
       "        275,  276,  277,  278,  279,  280,  281,  282,  283,  284,  285,\n",
       "        286,  287,  288,  289,  290,  291,  292,  293,  294,  295,  296,\n",
       "        297,  298,  299,  300,  301,  302,  303,  304,  305,  306,  307,\n",
       "        308,  309,  310,  311,  312,  313,  314,  315,  316,  317,  318,\n",
       "        319,  320,  321,  322,  323,  324,  325,  326,  327,  328,  329,\n",
       "        606,  633, 1014,  513, 1161,  888,  432,  478, 1681, 1302,  660,\n",
       "        496,  504, 3810, 2351, 2221, 1891, 6179, 1301, 6641, 3662, 4712,\n",
       "       1853, 3786, 1695, 2425,  408, 1718, 4250,  499, 1116, 2087,  421,\n",
       "        779, 4316, 1363, 4647, 3582], dtype=int64)"
      ]
     },
     "execution_count": 53,
     "metadata": {},
     "output_type": "execute_result"
    }
   ],
   "source": [
    "user_entire_seq[0][0]"
   ]
  },
  {
   "cell_type": "code",
   "execution_count": null,
   "metadata": {},
   "outputs": [],
   "source": []
  },
  {
   "cell_type": "code",
   "execution_count": 56,
   "metadata": {},
   "outputs": [],
   "source": [
    "with open(\"./newinputs2/kuairec_dataset.pkl\", 'wb') as f:\n",
    "    pickle.dump(train_all.values, f)     #转为二维数组\n",
    "    pickle.dump(test_all.values, f)      #转为二维数组\n",
    "    pickle.dump(user_entire_seq, f)\n",
    "    \n",
    "    pickle.dump(user_item_cate_seq, f)\n",
    "    pickle.dump(user_item_tag_seq, f)\n",
    "    \n",
    "    pickle.dump(click_mask, f)\n",
    "    pickle.dump(like_mask, f)\n",
    "    pickle.dump(complete_mask, f)\n",
    "    \n",
    "    "
   ]
  },
  {
   "cell_type": "code",
   "execution_count": null,
   "metadata": {},
   "outputs": [],
   "source": []
  },
  {
   "cell_type": "code",
   "execution_count": null,
   "metadata": {},
   "outputs": [],
   "source": []
  },
  {
   "cell_type": "code",
   "execution_count": null,
   "metadata": {},
   "outputs": [],
   "source": []
  }
 ],
 "metadata": {
  "kernelspec": {
   "display_name": "Python 3",
   "language": "python",
   "name": "python3"
  },
  "language_info": {
   "codemirror_mode": {
    "name": "ipython",
    "version": 3
   },
   "file_extension": ".py",
   "mimetype": "text/x-python",
   "name": "python",
   "nbconvert_exporter": "python",
   "pygments_lexer": "ipython3",
   "version": "3.7.4"
  }
 },
 "nbformat": 4,
 "nbformat_minor": 2
}
